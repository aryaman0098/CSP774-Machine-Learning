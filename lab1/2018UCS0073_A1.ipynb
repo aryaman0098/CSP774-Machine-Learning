{
 "cells": [
  {
   "cell_type": "markdown",
   "metadata": {},
   "source": [
    "<h1>Question 1 : State wise complaints</h1>\n",
    "<p>The following data is taken from complaint.csv file. We perform certain EDA for this data file</p>"
   ]
  },
  {
   "cell_type": "markdown",
   "metadata": {},
   "source": [
    "<h3>Importing the required librabries</h3>"
   ]
  },
  {
   "cell_type": "code",
   "execution_count": 1,
   "metadata": {},
   "outputs": [],
   "source": [
    "import pandas as pd\n",
    "import numpy as np\n",
    "import seaborn as sns\n",
    "import matplotlib.pyplot as plt\n",
    "%matplotlib inline"
   ]
  },
  {
   "cell_type": "code",
   "execution_count": 2,
   "metadata": {},
   "outputs": [],
   "source": [
    "#Setting the background for graphs using seaborn to white\n",
    "\n",
    "sns.set_style(\"whitegrid\")"
   ]
  },
  {
   "cell_type": "markdown",
   "metadata": {},
   "source": [
    "<h3>Importing the dataset i.e complaint.csv</h3>"
   ]
  },
  {
   "cell_type": "code",
   "execution_count": 3,
   "metadata": {},
   "outputs": [],
   "source": [
    "dataset = pd.read_csv(\"complaint.csv\")"
   ]
  },
  {
   "cell_type": "code",
   "execution_count": 4,
   "metadata": {},
   "outputs": [
    {
     "data": {
      "text/html": [
       "<div>\n",
       "<style scoped>\n",
       "    .dataframe tbody tr th:only-of-type {\n",
       "        vertical-align: middle;\n",
       "    }\n",
       "\n",
       "    .dataframe tbody tr th {\n",
       "        vertical-align: top;\n",
       "    }\n",
       "\n",
       "    .dataframe thead th {\n",
       "        text-align: right;\n",
       "    }\n",
       "</style>\n",
       "<table border=\"1\" class=\"dataframe\">\n",
       "  <thead>\n",
       "    <tr style=\"text-align: right;\">\n",
       "      <th></th>\n",
       "      <th>Ticket #</th>\n",
       "      <th>Customer Complaint</th>\n",
       "      <th>Date</th>\n",
       "      <th>Date_month_year</th>\n",
       "      <th>Time</th>\n",
       "      <th>Received Via</th>\n",
       "      <th>City</th>\n",
       "      <th>State</th>\n",
       "      <th>Zip code</th>\n",
       "      <th>Status</th>\n",
       "      <th>Filing on Behalf of Someone</th>\n",
       "    </tr>\n",
       "  </thead>\n",
       "  <tbody>\n",
       "    <tr>\n",
       "      <th>0</th>\n",
       "      <td>250635</td>\n",
       "      <td>Cable Internet Speeds</td>\n",
       "      <td>22-04-2015</td>\n",
       "      <td>22-Apr-15</td>\n",
       "      <td>3:53:50 PM</td>\n",
       "      <td>Customer Care Call</td>\n",
       "      <td>Abingdon</td>\n",
       "      <td>Maryland</td>\n",
       "      <td>21009</td>\n",
       "      <td>Closed</td>\n",
       "      <td>No</td>\n",
       "    </tr>\n",
       "    <tr>\n",
       "      <th>1</th>\n",
       "      <td>223441</td>\n",
       "      <td>Payment disappear - service got disconnected</td>\n",
       "      <td>04-08-2015</td>\n",
       "      <td>04-Aug-15</td>\n",
       "      <td>10:22:56 AM</td>\n",
       "      <td>Internet</td>\n",
       "      <td>Acworth</td>\n",
       "      <td>Georgia</td>\n",
       "      <td>30102</td>\n",
       "      <td>Closed</td>\n",
       "      <td>No</td>\n",
       "    </tr>\n",
       "    <tr>\n",
       "      <th>2</th>\n",
       "      <td>242732</td>\n",
       "      <td>Speed and Service</td>\n",
       "      <td>18-04-2015</td>\n",
       "      <td>18-Apr-15</td>\n",
       "      <td>9:55:47 AM</td>\n",
       "      <td>Internet</td>\n",
       "      <td>Acworth</td>\n",
       "      <td>Georgia</td>\n",
       "      <td>30101</td>\n",
       "      <td>Closed</td>\n",
       "      <td>Yes</td>\n",
       "    </tr>\n",
       "    <tr>\n",
       "      <th>3</th>\n",
       "      <td>277946</td>\n",
       "      <td>Imposed a New Usage Cap of 300GB that punishe...</td>\n",
       "      <td>05-07-2015</td>\n",
       "      <td>05-Jul-15</td>\n",
       "      <td>11:59:35 AM</td>\n",
       "      <td>Internet</td>\n",
       "      <td>Acworth</td>\n",
       "      <td>Georgia</td>\n",
       "      <td>30101</td>\n",
       "      <td>Open</td>\n",
       "      <td>Yes</td>\n",
       "    </tr>\n",
       "    <tr>\n",
       "      <th>4</th>\n",
       "      <td>307175</td>\n",
       "      <td>not working and no service to boot</td>\n",
       "      <td>26-05-2015</td>\n",
       "      <td>26-May-15</td>\n",
       "      <td>1:25:26 PM</td>\n",
       "      <td>Internet</td>\n",
       "      <td>Acworth</td>\n",
       "      <td>Georgia</td>\n",
       "      <td>30101</td>\n",
       "      <td>Solved</td>\n",
       "      <td>No</td>\n",
       "    </tr>\n",
       "  </tbody>\n",
       "</table>\n",
       "</div>"
      ],
      "text/plain": [
       "  Ticket #                                 Customer Complaint        Date  \\\n",
       "0   250635                              Cable Internet Speeds  22-04-2015   \n",
       "1   223441       Payment disappear - service got disconnected  04-08-2015   \n",
       "2   242732                                  Speed and Service  18-04-2015   \n",
       "3   277946   Imposed a New Usage Cap of 300GB that punishe...  05-07-2015   \n",
       "4   307175                 not working and no service to boot  26-05-2015   \n",
       "\n",
       "  Date_month_year         Time        Received Via      City     State  \\\n",
       "0       22-Apr-15   3:53:50 PM  Customer Care Call  Abingdon  Maryland   \n",
       "1       04-Aug-15  10:22:56 AM            Internet   Acworth   Georgia   \n",
       "2       18-Apr-15   9:55:47 AM            Internet   Acworth   Georgia   \n",
       "3       05-Jul-15  11:59:35 AM            Internet   Acworth   Georgia   \n",
       "4       26-May-15   1:25:26 PM            Internet   Acworth   Georgia   \n",
       "\n",
       "   Zip code  Status Filing on Behalf of Someone  \n",
       "0     21009  Closed                          No  \n",
       "1     30102  Closed                          No  \n",
       "2     30101  Closed                         Yes  \n",
       "3     30101    Open                         Yes  \n",
       "4     30101  Solved                          No  "
      ]
     },
     "execution_count": 4,
     "metadata": {},
     "output_type": "execute_result"
    }
   ],
   "source": [
    "dataset.head()"
   ]
  },
  {
   "cell_type": "code",
   "execution_count": 5,
   "metadata": {},
   "outputs": [
    {
     "data": {
      "text/plain": [
       "(2077, 11)"
      ]
     },
     "execution_count": 5,
     "metadata": {},
     "output_type": "execute_result"
    }
   ],
   "source": [
    "#Finding the shape of the dataset\n",
    "\n",
    "dataset.shape"
   ]
  },
  {
   "cell_type": "code",
   "execution_count": 6,
   "metadata": {},
   "outputs": [
    {
     "data": {
      "text/html": [
       "<div>\n",
       "<style scoped>\n",
       "    .dataframe tbody tr th:only-of-type {\n",
       "        vertical-align: middle;\n",
       "    }\n",
       "\n",
       "    .dataframe tbody tr th {\n",
       "        vertical-align: top;\n",
       "    }\n",
       "\n",
       "    .dataframe thead th {\n",
       "        text-align: right;\n",
       "    }\n",
       "</style>\n",
       "<table border=\"1\" class=\"dataframe\">\n",
       "  <thead>\n",
       "    <tr style=\"text-align: right;\">\n",
       "      <th></th>\n",
       "      <th>Ticket #</th>\n",
       "      <th>Customer Complaint</th>\n",
       "      <th>Date</th>\n",
       "      <th>Date_month_year</th>\n",
       "      <th>Time</th>\n",
       "      <th>Received Via</th>\n",
       "      <th>City</th>\n",
       "      <th>State</th>\n",
       "      <th>Zip code</th>\n",
       "      <th>Status</th>\n",
       "      <th>Filing on Behalf of Someone</th>\n",
       "    </tr>\n",
       "  </thead>\n",
       "  <tbody>\n",
       "    <tr>\n",
       "      <th>1982</th>\n",
       "      <td>311271</td>\n",
       "      <td>Internet speed</td>\n",
       "      <td>28-05-2015</td>\n",
       "      <td>28-May-15</td>\n",
       "      <td>12:26:21 PM</td>\n",
       "      <td>Internet</td>\n",
       "      <td>Washington</td>\n",
       "      <td>District of Columbia</td>\n",
       "      <td>20018</td>\n",
       "      <td>Solved</td>\n",
       "      <td>Yes</td>\n",
       "    </tr>\n",
       "  </tbody>\n",
       "</table>\n",
       "</div>"
      ],
      "text/plain": [
       "     Ticket # Customer Complaint        Date Date_month_year         Time  \\\n",
       "1982   311271     Internet speed  28-05-2015       28-May-15  12:26:21 PM   \n",
       "\n",
       "     Received Via        City                 State  Zip code  Status  \\\n",
       "1982     Internet  Washington  District of Columbia     20018  Solved   \n",
       "\n",
       "     Filing on Behalf of Someone  \n",
       "1982                         Yes  "
      ]
     },
     "execution_count": 6,
     "metadata": {},
     "output_type": "execute_result"
    }
   ],
   "source": [
    "dataset[dataset[\"State\"] == \"District of Columbia\"] "
   ]
  },
  {
   "cell_type": "code",
   "execution_count": 7,
   "metadata": {},
   "outputs": [],
   "source": [
    "dataset1 = dataset.drop([1982])"
   ]
  },
  {
   "cell_type": "code",
   "execution_count": 8,
   "metadata": {},
   "outputs": [
    {
     "data": {
      "text/plain": [
       "(2076, 11)"
      ]
     },
     "execution_count": 8,
     "metadata": {},
     "output_type": "execute_result"
    }
   ],
   "source": [
    "dataset1.shape"
   ]
  },
  {
   "cell_type": "markdown",
   "metadata": {},
   "source": [
    "<h2>[1] Trend Chart for monthly registered complaints</h2>"
   ]
  },
  {
   "cell_type": "code",
   "execution_count": 9,
   "metadata": {},
   "outputs": [
    {
     "name": "stdout",
     "output_type": "stream",
     "text": [
      "{'Jan': 52, 'Feb': 54, 'Mar': 42, 'Apr': 351, 'May': 297, 'Jun': 984, 'Jul': 44, 'Aug': 61, 'Sep': 51, 'Oct': 47, 'Nov': 35, 'Dec': 59}\n"
     ]
    }
   ],
   "source": [
    "#Utility function for getting the monthly frequency of complaints in form of a dictionary\n",
    "\n",
    "def getMonthlyFrequency(dataset):\n",
    "    frequencies = {\"Jan\" : 0, \"Feb\" : 0, \"Mar\" : 0, \"Apr\" : 0, \"May\" : 0, \"Jun\" : 0, \"Jul\" : 0, \"Aug\" : 0, \"Sep\" : 0, \"Oct\" : 0, \"Nov\" : 0, \"Dec\" : 0}\n",
    "    for i in dataset[\"Date_month_year\"]:\n",
    "        l = i.split(\"-\")\n",
    "        frequencies[l[1]] = frequencies[l[1]] + 1\n",
    "    return frequencies\n",
    "print(getMonthlyFrequency(dataset))   "
   ]
  },
  {
   "cell_type": "code",
   "execution_count": 10,
   "metadata": {},
   "outputs": [
    {
     "data": {
      "text/html": [
       "<div>\n",
       "<style scoped>\n",
       "    .dataframe tbody tr th:only-of-type {\n",
       "        vertical-align: middle;\n",
       "    }\n",
       "\n",
       "    .dataframe tbody tr th {\n",
       "        vertical-align: top;\n",
       "    }\n",
       "\n",
       "    .dataframe thead th {\n",
       "        text-align: right;\n",
       "    }\n",
       "</style>\n",
       "<table border=\"1\" class=\"dataframe\">\n",
       "  <thead>\n",
       "    <tr style=\"text-align: right;\">\n",
       "      <th></th>\n",
       "      <th>Months</th>\n",
       "      <th>Number of complaints</th>\n",
       "    </tr>\n",
       "  </thead>\n",
       "  <tbody>\n",
       "    <tr>\n",
       "      <th>0</th>\n",
       "      <td>Jan</td>\n",
       "      <td>52</td>\n",
       "    </tr>\n",
       "    <tr>\n",
       "      <th>1</th>\n",
       "      <td>Feb</td>\n",
       "      <td>54</td>\n",
       "    </tr>\n",
       "    <tr>\n",
       "      <th>2</th>\n",
       "      <td>Mar</td>\n",
       "      <td>42</td>\n",
       "    </tr>\n",
       "    <tr>\n",
       "      <th>3</th>\n",
       "      <td>Apr</td>\n",
       "      <td>351</td>\n",
       "    </tr>\n",
       "    <tr>\n",
       "      <th>4</th>\n",
       "      <td>May</td>\n",
       "      <td>296</td>\n",
       "    </tr>\n",
       "    <tr>\n",
       "      <th>5</th>\n",
       "      <td>Jun</td>\n",
       "      <td>984</td>\n",
       "    </tr>\n",
       "    <tr>\n",
       "      <th>6</th>\n",
       "      <td>Jul</td>\n",
       "      <td>44</td>\n",
       "    </tr>\n",
       "    <tr>\n",
       "      <th>7</th>\n",
       "      <td>Aug</td>\n",
       "      <td>61</td>\n",
       "    </tr>\n",
       "    <tr>\n",
       "      <th>8</th>\n",
       "      <td>Sep</td>\n",
       "      <td>51</td>\n",
       "    </tr>\n",
       "    <tr>\n",
       "      <th>9</th>\n",
       "      <td>Oct</td>\n",
       "      <td>47</td>\n",
       "    </tr>\n",
       "    <tr>\n",
       "      <th>10</th>\n",
       "      <td>Nov</td>\n",
       "      <td>35</td>\n",
       "    </tr>\n",
       "    <tr>\n",
       "      <th>11</th>\n",
       "      <td>Dec</td>\n",
       "      <td>59</td>\n",
       "    </tr>\n",
       "  </tbody>\n",
       "</table>\n",
       "</div>"
      ],
      "text/plain": [
       "   Months  Number of complaints\n",
       "0     Jan                    52\n",
       "1     Feb                    54\n",
       "2     Mar                    42\n",
       "3     Apr                   351\n",
       "4     May                   296\n",
       "5     Jun                   984\n",
       "6     Jul                    44\n",
       "7     Aug                    61\n",
       "8     Sep                    51\n",
       "9     Oct                    47\n",
       "10    Nov                    35\n",
       "11    Dec                    59"
      ]
     },
     "execution_count": 10,
     "metadata": {},
     "output_type": "execute_result"
    }
   ],
   "source": [
    "#Converting the monthly frequency complaints dictionary into a pandas dataframe named monthly trends\n",
    "\n",
    "frequencies = getMonthlyFrequency(dataset1)\n",
    "data = {'Months': list(frequencies.keys()), 'Number of complaints': list(frequencies.values())}\n",
    "monthlyTrends = pd.DataFrame.from_dict(data)\n",
    "monthlyTrends"
   ]
  },
  {
   "cell_type": "markdown",
   "metadata": {},
   "source": [
    "<h3>Plotting the graph for monthly complaints</h3>"
   ]
  },
  {
   "cell_type": "code",
   "execution_count": 11,
   "metadata": {},
   "outputs": [
    {
     "data": {
      "text/plain": [
       "Text(0.5, 1.0, 'Monthly Trends')"
      ]
     },
     "execution_count": 11,
     "metadata": {},
     "output_type": "execute_result"
    },
    {
     "data": {
      "image/png": "[encoded data removed]",
      "text/plain": [
       "<Figure size 1080x504 with 1 Axes>"
      ]
     },
     "metadata": {},
     "output_type": "display_data"
    }
   ],
   "source": [
    "fig, ax = plt.subplots(figsize = (15,7))\n",
    "sns.set_color_codes(\"pastel\")\n",
    "sns.barplot(x = \"Months\", y = \"Number of complaints\", data = monthlyTrends, color = \"b\").set_title(\"Monthly Trends\")"
   ]
  },
  {
   "cell_type": "markdown",
   "metadata": {},
   "source": [
    "<p>Hence we can see that max compalaints are registered in <strong>July</strong>, whereas min complaints are registered in<strong>November</strong></p>"
   ]
  },
  {
   "cell_type": "markdown",
   "metadata": {},
   "source": [
    "<h2>[2] State wise Stacked bar</h2>"
   ]
  },
  {
   "cell_type": "code",
   "execution_count": 12,
   "metadata": {},
   "outputs": [
    {
     "name": "stdout",
     "output_type": "stream",
     "text": [
      "{'Maryland': 71, 'Georgia': 264, 'Michigan': 105, 'California': 210, 'New Mexico': 15, 'Indiana': 55, 'Virginia': 56, 'Illinois': 147, 'Pennsylvania': 120, 'Oregon': 45, 'Massachusetts': 55, 'New Hampshire': 11, 'Minnesota': 29, 'Tennessee': 137, 'Florida': 226, 'Alabama': 26, 'Washington': 92, 'Colorado': 75, 'Texas': 69, 'New York': 6, 'New Jersey': 70, 'Maine': 5, 'West Virginia': 10, 'Montana': 1, 'Mississippi': 38, 'Connecticut': 12, 'Vermont': 3, 'Kentucky': 7, 'South Carolina': 18, 'Ohio': 3, 'Utah': 21, 'Delaware': 11, 'Missouri': 3, 'Arkansas': 5, 'Nevada': 1, 'Louisiana': 13, 'Kansas': 1, 'Arizona': 20, 'North Carolina': 2, 'District Of Columbia': 16, 'District of Columbia': 1, 'Iowa': 1}\n"
     ]
    }
   ],
   "source": [
    "#Utility function to get number of complaints for each state\n",
    "\n",
    "def getStateFrequency(dataset):\n",
    "    stateF = {}\n",
    "    for i in range (2076):\n",
    "        state = dataset.iloc[i][\"State\"]\n",
    "        if state not in stateF.keys():\n",
    "            stateF[state] = 0\n",
    "        stateF[state] = stateF[state] + 1\n",
    "    return stateF\n",
    "print(getStateFrequency(dataset)) "
   ]
  },
  {
   "cell_type": "code",
   "execution_count": 13,
   "metadata": {},
   "outputs": [
    {
     "data": {
      "text/html": [
       "<div>\n",
       "<style scoped>\n",
       "    .dataframe tbody tr th:only-of-type {\n",
       "        vertical-align: middle;\n",
       "    }\n",
       "\n",
       "    .dataframe tbody tr th {\n",
       "        vertical-align: top;\n",
       "    }\n",
       "\n",
       "    .dataframe thead th {\n",
       "        text-align: right;\n",
       "    }\n",
       "</style>\n",
       "<table border=\"1\" class=\"dataframe\">\n",
       "  <thead>\n",
       "    <tr style=\"text-align: right;\">\n",
       "      <th></th>\n",
       "      <th>State</th>\n",
       "      <th>Number of complaints</th>\n",
       "    </tr>\n",
       "  </thead>\n",
       "  <tbody>\n",
       "    <tr>\n",
       "      <th>0</th>\n",
       "      <td>Maryland</td>\n",
       "      <td>71</td>\n",
       "    </tr>\n",
       "    <tr>\n",
       "      <th>1</th>\n",
       "      <td>Georgia</td>\n",
       "      <td>264</td>\n",
       "    </tr>\n",
       "    <tr>\n",
       "      <th>2</th>\n",
       "      <td>Michigan</td>\n",
       "      <td>106</td>\n",
       "    </tr>\n",
       "    <tr>\n",
       "      <th>3</th>\n",
       "      <td>California</td>\n",
       "      <td>210</td>\n",
       "    </tr>\n",
       "    <tr>\n",
       "      <th>4</th>\n",
       "      <td>New Mexico</td>\n",
       "      <td>15</td>\n",
       "    </tr>\n",
       "    <tr>\n",
       "      <th>5</th>\n",
       "      <td>Indiana</td>\n",
       "      <td>55</td>\n",
       "    </tr>\n",
       "    <tr>\n",
       "      <th>6</th>\n",
       "      <td>Virginia</td>\n",
       "      <td>56</td>\n",
       "    </tr>\n",
       "    <tr>\n",
       "      <th>7</th>\n",
       "      <td>Illinois</td>\n",
       "      <td>147</td>\n",
       "    </tr>\n",
       "    <tr>\n",
       "      <th>8</th>\n",
       "      <td>Pennsylvania</td>\n",
       "      <td>120</td>\n",
       "    </tr>\n",
       "    <tr>\n",
       "      <th>9</th>\n",
       "      <td>Oregon</td>\n",
       "      <td>45</td>\n",
       "    </tr>\n",
       "    <tr>\n",
       "      <th>10</th>\n",
       "      <td>Massachusetts</td>\n",
       "      <td>55</td>\n",
       "    </tr>\n",
       "    <tr>\n",
       "      <th>11</th>\n",
       "      <td>New Hampshire</td>\n",
       "      <td>11</td>\n",
       "    </tr>\n",
       "    <tr>\n",
       "      <th>12</th>\n",
       "      <td>Minnesota</td>\n",
       "      <td>29</td>\n",
       "    </tr>\n",
       "    <tr>\n",
       "      <th>13</th>\n",
       "      <td>Tennessee</td>\n",
       "      <td>137</td>\n",
       "    </tr>\n",
       "    <tr>\n",
       "      <th>14</th>\n",
       "      <td>Florida</td>\n",
       "      <td>226</td>\n",
       "    </tr>\n",
       "    <tr>\n",
       "      <th>15</th>\n",
       "      <td>Alabama</td>\n",
       "      <td>26</td>\n",
       "    </tr>\n",
       "    <tr>\n",
       "      <th>16</th>\n",
       "      <td>Washington</td>\n",
       "      <td>92</td>\n",
       "    </tr>\n",
       "    <tr>\n",
       "      <th>17</th>\n",
       "      <td>Colorado</td>\n",
       "      <td>75</td>\n",
       "    </tr>\n",
       "    <tr>\n",
       "      <th>18</th>\n",
       "      <td>Texas</td>\n",
       "      <td>69</td>\n",
       "    </tr>\n",
       "    <tr>\n",
       "      <th>19</th>\n",
       "      <td>New York</td>\n",
       "      <td>6</td>\n",
       "    </tr>\n",
       "    <tr>\n",
       "      <th>20</th>\n",
       "      <td>New Jersey</td>\n",
       "      <td>70</td>\n",
       "    </tr>\n",
       "    <tr>\n",
       "      <th>21</th>\n",
       "      <td>Maine</td>\n",
       "      <td>5</td>\n",
       "    </tr>\n",
       "    <tr>\n",
       "      <th>22</th>\n",
       "      <td>West Virginia</td>\n",
       "      <td>10</td>\n",
       "    </tr>\n",
       "    <tr>\n",
       "      <th>23</th>\n",
       "      <td>Montana</td>\n",
       "      <td>1</td>\n",
       "    </tr>\n",
       "    <tr>\n",
       "      <th>24</th>\n",
       "      <td>Mississippi</td>\n",
       "      <td>38</td>\n",
       "    </tr>\n",
       "    <tr>\n",
       "      <th>25</th>\n",
       "      <td>Connecticut</td>\n",
       "      <td>12</td>\n",
       "    </tr>\n",
       "    <tr>\n",
       "      <th>26</th>\n",
       "      <td>Vermont</td>\n",
       "      <td>3</td>\n",
       "    </tr>\n",
       "    <tr>\n",
       "      <th>27</th>\n",
       "      <td>Kentucky</td>\n",
       "      <td>7</td>\n",
       "    </tr>\n",
       "    <tr>\n",
       "      <th>28</th>\n",
       "      <td>South Carolina</td>\n",
       "      <td>18</td>\n",
       "    </tr>\n",
       "    <tr>\n",
       "      <th>29</th>\n",
       "      <td>Ohio</td>\n",
       "      <td>3</td>\n",
       "    </tr>\n",
       "    <tr>\n",
       "      <th>30</th>\n",
       "      <td>Utah</td>\n",
       "      <td>21</td>\n",
       "    </tr>\n",
       "    <tr>\n",
       "      <th>31</th>\n",
       "      <td>Delaware</td>\n",
       "      <td>11</td>\n",
       "    </tr>\n",
       "    <tr>\n",
       "      <th>32</th>\n",
       "      <td>Missouri</td>\n",
       "      <td>3</td>\n",
       "    </tr>\n",
       "    <tr>\n",
       "      <th>33</th>\n",
       "      <td>Arkansas</td>\n",
       "      <td>5</td>\n",
       "    </tr>\n",
       "    <tr>\n",
       "      <th>34</th>\n",
       "      <td>Nevada</td>\n",
       "      <td>1</td>\n",
       "    </tr>\n",
       "    <tr>\n",
       "      <th>35</th>\n",
       "      <td>Louisiana</td>\n",
       "      <td>13</td>\n",
       "    </tr>\n",
       "    <tr>\n",
       "      <th>36</th>\n",
       "      <td>Kansas</td>\n",
       "      <td>1</td>\n",
       "    </tr>\n",
       "    <tr>\n",
       "      <th>37</th>\n",
       "      <td>Arizona</td>\n",
       "      <td>20</td>\n",
       "    </tr>\n",
       "    <tr>\n",
       "      <th>38</th>\n",
       "      <td>North Carolina</td>\n",
       "      <td>2</td>\n",
       "    </tr>\n",
       "    <tr>\n",
       "      <th>39</th>\n",
       "      <td>District Of Columbia</td>\n",
       "      <td>16</td>\n",
       "    </tr>\n",
       "    <tr>\n",
       "      <th>40</th>\n",
       "      <td>Iowa</td>\n",
       "      <td>1</td>\n",
       "    </tr>\n",
       "  </tbody>\n",
       "</table>\n",
       "</div>"
      ],
      "text/plain": [
       "                   State  Number of complaints\n",
       "0               Maryland                    71\n",
       "1                Georgia                   264\n",
       "2               Michigan                   106\n",
       "3             California                   210\n",
       "4             New Mexico                    15\n",
       "5                Indiana                    55\n",
       "6               Virginia                    56\n",
       "7               Illinois                   147\n",
       "8           Pennsylvania                   120\n",
       "9                 Oregon                    45\n",
       "10         Massachusetts                    55\n",
       "11         New Hampshire                    11\n",
       "12             Minnesota                    29\n",
       "13             Tennessee                   137\n",
       "14               Florida                   226\n",
       "15               Alabama                    26\n",
       "16            Washington                    92\n",
       "17              Colorado                    75\n",
       "18                 Texas                    69\n",
       "19              New York                     6\n",
       "20            New Jersey                    70\n",
       "21                 Maine                     5\n",
       "22         West Virginia                    10\n",
       "23               Montana                     1\n",
       "24           Mississippi                    38\n",
       "25           Connecticut                    12\n",
       "26               Vermont                     3\n",
       "27              Kentucky                     7\n",
       "28        South Carolina                    18\n",
       "29                  Ohio                     3\n",
       "30                  Utah                    21\n",
       "31              Delaware                    11\n",
       "32              Missouri                     3\n",
       "33              Arkansas                     5\n",
       "34                Nevada                     1\n",
       "35             Louisiana                    13\n",
       "36                Kansas                     1\n",
       "37               Arizona                    20\n",
       "38        North Carolina                     2\n",
       "39  District Of Columbia                    16\n",
       "40                  Iowa                     1"
      ]
     },
     "execution_count": 13,
     "metadata": {},
     "output_type": "execute_result"
    }
   ],
   "source": [
    "# Converting number of complaints for each state into a dataframe\n",
    "\n",
    "stateF = getStateFrequency(dataset1)\n",
    "data = {'State': list(stateF.keys()), 'Number of complaints': list(stateF.values())}\n",
    "stateF = pd.DataFrame.from_dict(data)\n",
    "stateF"
   ]
  },
  {
   "cell_type": "code",
   "execution_count": 14,
   "metadata": {},
   "outputs": [
    {
     "data": {
      "text/plain": [
       "2076"
      ]
     },
     "execution_count": 14,
     "metadata": {},
     "output_type": "execute_result"
    }
   ],
   "source": [
    "stateF[\"Number of complaints\"].sum()"
   ]
  },
  {
   "cell_type": "markdown",
   "metadata": {},
   "source": [
    "<h4>Plotting the data for each state into a graph</h4>"
   ]
  },
  {
   "cell_type": "code",
   "execution_count": 15,
   "metadata": {},
   "outputs": [
    {
     "data": {
      "text/plain": [
       "(array([ 0,  1,  2,  3,  4,  5,  6,  7,  8,  9, 10, 11, 12, 13, 14, 15, 16,\n",
       "        17, 18, 19, 20, 21, 22, 23, 24, 25, 26, 27, 28, 29, 30, 31, 32, 33,\n",
       "        34, 35, 36, 37, 38, 39, 40]),\n",
       " <a list of 41 Text xticklabel objects>)"
      ]
     },
     "execution_count": 15,
     "metadata": {},
     "output_type": "execute_result"
    },
    {
     "data": {
      "image/png": "[encoded data removed]",
      "text/plain": [
       "<Figure size 1800x720 with 1 Axes>"
      ]
     },
     "metadata": {},
     "output_type": "display_data"
    }
   ],
   "source": [
    "fig, ax = plt.subplots(figsize = (25, 10))\n",
    "sns.set(font_scale = 1)\n",
    "sns.set_color_codes(\"pastel\")\n",
    "g = sns.barplot(x='State', y='Number of complaints', data = stateF, color = \"b\")\n",
    "g.set_xlabel(\"State\")\n",
    "plt.xticks(rotation = 90)"
   ]
  },
  {
   "cell_type": "markdown",
   "metadata": {},
   "source": [
    "<h4>Finding the complaint distribution for each state</h4>"
   ]
  },
  {
   "cell_type": "code",
   "execution_count": 16,
   "metadata": {},
   "outputs": [],
   "source": [
    "#Utility function for finding the complaint distribution for each state\n",
    "\n",
    "def stateWiseComplaintsDistribution(dataset):\n",
    "    d = {}\n",
    "    for i in range (2076):\n",
    "        state = dataset.iloc[i][\"State\"]\n",
    "        if state not in d.keys():\n",
    "            d[state] = {\"Closed\" : 0, \"Open\" : 0, \"Solved\" : 0, \"Pending\" : 0}\n",
    "        status = dataset.iloc[i][\"Status\"]\n",
    "        d[state][status] += 1\n",
    "    return d\n",
    "dictionary = stateWiseComplaintsDistribution(dataset1)"
   ]
  },
  {
   "cell_type": "code",
   "execution_count": 17,
   "metadata": {},
   "outputs": [],
   "source": [
    "stateComplaints = pd.DataFrame.from_dict(dictionary)\n",
    "stateComplaints = stateComplaints.T"
   ]
  },
  {
   "cell_type": "markdown",
   "metadata": {},
   "source": [
    "<h3>Plotting the state wise complaints as a stacked bar graph</h3>"
   ]
  },
  {
   "cell_type": "code",
   "execution_count": 87,
   "metadata": {},
   "outputs": [
    {
     "data": {
      "text/plain": [
       "Text(0, 0.5, 'Number of complaints')"
      ]
     },
     "execution_count": 87,
     "metadata": {},
     "output_type": "execute_result"
    },
    {
     "data": {
      "image/png": "[encoded data removed]",
      "text/plain": [
       "<Figure size 1440x720 with 1 Axes>"
      ]
     },
     "metadata": {},
     "output_type": "display_data"
    }
   ],
   "source": [
    "stateComplaints.plot.bar(stacked = True, figsize = (20,10))\n",
    "plt.xlabel(\"State\")\n",
    "plt.ylabel(\"Number of complaints\")"
   ]
  },
  {
   "cell_type": "markdown",
   "metadata": {},
   "source": [
    "<h2>[5] Reporting which state have maximum and minimum complaints</h2>"
   ]
  },
  {
   "cell_type": "code",
   "execution_count": 19,
   "metadata": {},
   "outputs": [
    {
     "name": "stdout",
     "output_type": "stream",
     "text": [
      "1    Highest Complaints : Georgia\n",
      "Name: State, dtype: object\n",
      "23    Lowest Complaints : Montana\n",
      "34     Lowest Complaints : Nevada\n",
      "36     Lowest Complaints : Kansas\n",
      "40       Lowest Complaints : Iowa\n",
      "Name: State, dtype: object\n"
     ]
    }
   ],
   "source": [
    "highest = stateF[stateF[\"Number of complaints\"] == 264][\"State\"]\n",
    "lowest = stateF[stateF[\"Number of complaints\"] == 1][\"State\"]\n",
    "print(\"Highest Complaints : \" + highest)\n",
    "print(\"Lowest Complaints : \" + lowest)"
   ]
  },
  {
   "cell_type": "markdown",
   "metadata": {},
   "source": [
    "<p>State with maximum complaints : <strong>Georgia</strong></p>\n",
    "<br>\n",
    "<p>State with minimum complaints : <strong>Montana, Nevada, Kansas, Iowa</strong></p>\n"
   ]
  },
  {
   "cell_type": "markdown",
   "metadata": {},
   "source": [
    "<h2>[6] Finding states with highest and lowest frquency of unresolved complaints</h2>"
   ]
  },
  {
   "cell_type": "code",
   "execution_count": 20,
   "metadata": {},
   "outputs": [
    {
     "data": {
      "text/html": [
       "<div>\n",
       "<style scoped>\n",
       "    .dataframe tbody tr th:only-of-type {\n",
       "        vertical-align: middle;\n",
       "    }\n",
       "\n",
       "    .dataframe tbody tr th {\n",
       "        vertical-align: top;\n",
       "    }\n",
       "\n",
       "    .dataframe thead th {\n",
       "        text-align: right;\n",
       "    }\n",
       "</style>\n",
       "<table border=\"1\" class=\"dataframe\">\n",
       "  <thead>\n",
       "    <tr style=\"text-align: right;\">\n",
       "      <th></th>\n",
       "      <th>index</th>\n",
       "      <th>Closed</th>\n",
       "      <th>Open</th>\n",
       "      <th>Solved</th>\n",
       "      <th>Pending</th>\n",
       "    </tr>\n",
       "  </thead>\n",
       "  <tbody>\n",
       "    <tr>\n",
       "      <th>0</th>\n",
       "      <td>Maryland</td>\n",
       "      <td>23</td>\n",
       "      <td>9</td>\n",
       "      <td>37</td>\n",
       "      <td>2</td>\n",
       "    </tr>\n",
       "    <tr>\n",
       "      <th>1</th>\n",
       "      <td>Georgia</td>\n",
       "      <td>74</td>\n",
       "      <td>34</td>\n",
       "      <td>113</td>\n",
       "      <td>43</td>\n",
       "    </tr>\n",
       "    <tr>\n",
       "      <th>2</th>\n",
       "      <td>Michigan</td>\n",
       "      <td>40</td>\n",
       "      <td>16</td>\n",
       "      <td>45</td>\n",
       "      <td>5</td>\n",
       "    </tr>\n",
       "    <tr>\n",
       "      <th>3</th>\n",
       "      <td>California</td>\n",
       "      <td>69</td>\n",
       "      <td>45</td>\n",
       "      <td>82</td>\n",
       "      <td>14</td>\n",
       "    </tr>\n",
       "    <tr>\n",
       "      <th>4</th>\n",
       "      <td>New Mexico</td>\n",
       "      <td>5</td>\n",
       "      <td>3</td>\n",
       "      <td>6</td>\n",
       "      <td>1</td>\n",
       "    </tr>\n",
       "  </tbody>\n",
       "</table>\n",
       "</div>"
      ],
      "text/plain": [
       "        index  Closed  Open  Solved  Pending\n",
       "0    Maryland      23     9      37        2\n",
       "1     Georgia      74    34     113       43\n",
       "2    Michigan      40    16      45        5\n",
       "3  California      69    45      82       14\n",
       "4  New Mexico       5     3       6        1"
      ]
     },
     "execution_count": 20,
     "metadata": {},
     "output_type": "execute_result"
    }
   ],
   "source": [
    "stateComplaints.reset_index(inplace = True) \n",
    "stateComplaints.head()"
   ]
  },
  {
   "cell_type": "code",
   "execution_count": 21,
   "metadata": {},
   "outputs": [
    {
     "data": {
      "text/plain": [
       "(41, 5)"
      ]
     },
     "execution_count": 21,
     "metadata": {},
     "output_type": "execute_result"
    }
   ],
   "source": [
    "#Finding the shape of the dataframe\n",
    "\n",
    "stateComplaints.shape"
   ]
  },
  {
   "cell_type": "markdown",
   "metadata": {},
   "source": [
    "<p>The cases that will be unresolved are mainly open and pending cases</p>"
   ]
  },
  {
   "cell_type": "code",
   "execution_count": 22,
   "metadata": {},
   "outputs": [
    {
     "data": {
      "text/plain": [
       "{'Maryland': 11,\n",
       " 'Georgia': 77,\n",
       " 'Michigan': 21,\n",
       " 'California': 59,\n",
       " 'New Mexico': 4,\n",
       " 'Indiana': 8,\n",
       " 'Virginia': 10,\n",
       " 'Illinois': 27,\n",
       " 'Pennsylvania': 19,\n",
       " 'Oregon': 11,\n",
       " 'Massachusetts': 10,\n",
       " 'New Hampshire': 3,\n",
       " 'Minnesota': 4,\n",
       " 'Tennessee': 45,\n",
       " 'Florida': 38,\n",
       " 'Alabama': 9,\n",
       " 'Washington': 20,\n",
       " 'Colorado': 22,\n",
       " 'Texas': 21,\n",
       " 'New York': 0,\n",
       " 'New Jersey': 19,\n",
       " 'Maine': 2,\n",
       " 'West Virginia': 2,\n",
       " 'Montana': 0,\n",
       " 'Mississippi': 15,\n",
       " 'Connecticut': 3,\n",
       " 'Vermont': 1,\n",
       " 'Kentucky': 3,\n",
       " 'South Carolina': 3,\n",
       " 'Ohio': 0,\n",
       " 'Utah': 6,\n",
       " 'Delaware': 4,\n",
       " 'Missouri': 0,\n",
       " 'Arkansas': 0,\n",
       " 'Nevada': 0,\n",
       " 'Louisiana': 1,\n",
       " 'Kansas': 1,\n",
       " 'Arizona': 6,\n",
       " 'North Carolina': 0,\n",
       " 'District Of Columbia': 2,\n",
       " 'Iowa': 0}"
      ]
     },
     "execution_count": 22,
     "metadata": {},
     "output_type": "execute_result"
    }
   ],
   "source": [
    "#Utility function to sum up open and pending cases as these are the categories for unresolved cases\n",
    "\n",
    "def findUnresolvedComplaints(stateComplaints):\n",
    "    stateUnresolvedComplaints= {}\n",
    "    for i in range(41):\n",
    "        state = stateComplaints.iloc[i][\"index\"]\n",
    "        open = stateComplaints.iloc[i][\"Open\"]\n",
    "        pending = stateComplaints.iloc[i][\"Pending\"]\n",
    "        stateUnresolvedComplaints[state] = open + pending\n",
    "    return stateUnresolvedComplaints\n",
    "stateUnresolvedComplaints = findUnresolvedComplaints(stateComplaints)\n",
    "stateUnresolvedComplaints"
   ]
  },
  {
   "cell_type": "code",
   "execution_count": 23,
   "metadata": {},
   "outputs": [],
   "source": [
    "#Storing the min and max complaints and using to find the states\n",
    "\n",
    "temp1 = min(stateUnresolvedComplaints.values())\n",
    "temp2 = 77\n",
    "minComplaintsState = [key for key in stateUnresolvedComplaints.keys() if stateUnresolvedComplaints[key] == temp1]\n",
    "maxComplaintsState = [key for key in stateUnresolvedComplaints.keys() if stateUnresolvedComplaints[key] == temp2]"
   ]
  },
  {
   "cell_type": "code",
   "execution_count": 24,
   "metadata": {},
   "outputs": [
    {
     "data": {
      "text/plain": [
       "['New York',\n",
       " 'Montana',\n",
       " 'Ohio',\n",
       " 'Missouri',\n",
       " 'Arkansas',\n",
       " 'Nevada',\n",
       " 'North Carolina',\n",
       " 'Iowa']"
      ]
     },
     "execution_count": 24,
     "metadata": {},
     "output_type": "execute_result"
    }
   ],
   "source": [
    "minComplaintsState"
   ]
  },
  {
   "cell_type": "code",
   "execution_count": 25,
   "metadata": {},
   "outputs": [
    {
     "data": {
      "text/plain": [
       "['Georgia']"
      ]
     },
     "execution_count": 25,
     "metadata": {},
     "output_type": "execute_result"
    }
   ],
   "source": [
    "maxComplaintsState"
   ]
  },
  {
   "cell_type": "markdown",
   "metadata": {},
   "source": [
    "<p>State with maximum unresolved cases  : <strong>Georgia</strong></p>\n",
    "<br>\n",
    "<p>States with minimim unresolved cases  : <strong>New York, Montana, Ohio, Missouri, Arkansas, Nevada, North Carolina, Iowa </strong></p>"
   ]
  },
  {
   "cell_type": "markdown",
   "metadata": {},
   "source": [
    "<br>\n",
    "<br>\n",
    "<br>\n",
    "<br>"
   ]
  },
  {
   "cell_type": "markdown",
   "metadata": {},
   "source": [
    "<h1>Question 2 :Weekly sales for marts</h1>\n",
    "<p>Weekly sales for 45 stores are given to us. We perform exploratory data analysis and gain insights of the data. In the end we build a multi-variate linear regression model for store 2.</p>"
   ]
  },
  {
   "cell_type": "markdown",
   "metadata": {},
   "source": [
    "<h3>Importing the dataset</h3>"
   ]
  },
  {
   "cell_type": "code",
   "execution_count": 26,
   "metadata": {},
   "outputs": [],
   "source": [
    "dataset = pd.read_csv(\"Mart.csv\")"
   ]
  },
  {
   "cell_type": "code",
   "execution_count": 27,
   "metadata": {},
   "outputs": [
    {
     "data": {
      "text/html": [
       "<div>\n",
       "<style scoped>\n",
       "    .dataframe tbody tr th:only-of-type {\n",
       "        vertical-align: middle;\n",
       "    }\n",
       "\n",
       "    .dataframe tbody tr th {\n",
       "        vertical-align: top;\n",
       "    }\n",
       "\n",
       "    .dataframe thead th {\n",
       "        text-align: right;\n",
       "    }\n",
       "</style>\n",
       "<table border=\"1\" class=\"dataframe\">\n",
       "  <thead>\n",
       "    <tr style=\"text-align: right;\">\n",
       "      <th></th>\n",
       "      <th>Store</th>\n",
       "      <th>Date</th>\n",
       "      <th>Weekly_Sales</th>\n",
       "      <th>Holiday_Flag</th>\n",
       "      <th>Temperature</th>\n",
       "      <th>Fuel_Price</th>\n",
       "      <th>CPI</th>\n",
       "      <th>Unemployment</th>\n",
       "    </tr>\n",
       "  </thead>\n",
       "  <tbody>\n",
       "    <tr>\n",
       "      <th>0</th>\n",
       "      <td>1</td>\n",
       "      <td>05-02-2010</td>\n",
       "      <td>1643690.90</td>\n",
       "      <td>0</td>\n",
       "      <td>42.31</td>\n",
       "      <td>2.572</td>\n",
       "      <td>211.096358</td>\n",
       "      <td>8.106</td>\n",
       "    </tr>\n",
       "    <tr>\n",
       "      <th>1</th>\n",
       "      <td>1</td>\n",
       "      <td>12-02-2010</td>\n",
       "      <td>1641957.44</td>\n",
       "      <td>1</td>\n",
       "      <td>38.51</td>\n",
       "      <td>2.548</td>\n",
       "      <td>211.242170</td>\n",
       "      <td>8.106</td>\n",
       "    </tr>\n",
       "    <tr>\n",
       "      <th>2</th>\n",
       "      <td>1</td>\n",
       "      <td>19-02-2010</td>\n",
       "      <td>1611968.17</td>\n",
       "      <td>0</td>\n",
       "      <td>39.93</td>\n",
       "      <td>2.514</td>\n",
       "      <td>211.289143</td>\n",
       "      <td>8.106</td>\n",
       "    </tr>\n",
       "    <tr>\n",
       "      <th>3</th>\n",
       "      <td>1</td>\n",
       "      <td>26-02-2010</td>\n",
       "      <td>1409727.59</td>\n",
       "      <td>0</td>\n",
       "      <td>46.63</td>\n",
       "      <td>2.561</td>\n",
       "      <td>211.319643</td>\n",
       "      <td>8.106</td>\n",
       "    </tr>\n",
       "    <tr>\n",
       "      <th>4</th>\n",
       "      <td>1</td>\n",
       "      <td>05-03-2010</td>\n",
       "      <td>1554806.68</td>\n",
       "      <td>0</td>\n",
       "      <td>46.50</td>\n",
       "      <td>2.625</td>\n",
       "      <td>211.350143</td>\n",
       "      <td>8.106</td>\n",
       "    </tr>\n",
       "  </tbody>\n",
       "</table>\n",
       "</div>"
      ],
      "text/plain": [
       "   Store        Date  Weekly_Sales  Holiday_Flag  Temperature  Fuel_Price  \\\n",
       "0      1  05-02-2010    1643690.90             0        42.31       2.572   \n",
       "1      1  12-02-2010    1641957.44             1        38.51       2.548   \n",
       "2      1  19-02-2010    1611968.17             0        39.93       2.514   \n",
       "3      1  26-02-2010    1409727.59             0        46.63       2.561   \n",
       "4      1  05-03-2010    1554806.68             0        46.50       2.625   \n",
       "\n",
       "          CPI  Unemployment  \n",
       "0  211.096358         8.106  \n",
       "1  211.242170         8.106  \n",
       "2  211.289143         8.106  \n",
       "3  211.319643         8.106  \n",
       "4  211.350143         8.106  "
      ]
     },
     "execution_count": 27,
     "metadata": {},
     "output_type": "execute_result"
    }
   ],
   "source": [
    "#Analysing the dataset\n",
    "\n",
    "dataset.head()"
   ]
  },
  {
   "cell_type": "markdown",
   "metadata": {},
   "source": [
    "<h3>Shape of the dataset</h3>"
   ]
  },
  {
   "cell_type": "code",
   "execution_count": 28,
   "metadata": {},
   "outputs": [
    {
     "data": {
      "text/plain": [
       "(6435, 8)"
      ]
     },
     "execution_count": 28,
     "metadata": {},
     "output_type": "execute_result"
    }
   ],
   "source": [
    "dataset.shape"
   ]
  },
  {
   "cell_type": "markdown",
   "metadata": {},
   "source": [
    "<h3>Stores in consideration</h3>"
   ]
  },
  {
   "cell_type": "code",
   "execution_count": 29,
   "metadata": {},
   "outputs": [
    {
     "data": {
      "text/plain": [
       "array([ 1,  2,  3,  4,  5,  6,  7,  8,  9, 10, 11, 12, 13, 14, 15, 16, 17,\n",
       "       18, 19, 20, 21, 22, 23, 24, 25, 26, 27, 28, 29, 30, 31, 32, 33, 34,\n",
       "       35, 36, 37, 38, 39, 40, 41, 42, 43, 44, 45], dtype=int64)"
      ]
     },
     "execution_count": 29,
     "metadata": {},
     "output_type": "execute_result"
    }
   ],
   "source": [
    "dataset[\"Store\"].unique()"
   ]
  },
  {
   "cell_type": "markdown",
   "metadata": {},
   "source": [
    "<h2>[1] Finding the store with the maximum sales</h2>"
   ]
  },
  {
   "cell_type": "code",
   "execution_count": 30,
   "metadata": {},
   "outputs": [],
   "source": [
    "#Utility function to get the sales of the individual store\n",
    "\n",
    "def getMaxSales(dataset):\n",
    "    sales = {}\n",
    "    for i in range(6435):\n",
    "        Store = dataset.iloc[i][\"Store\"]\n",
    "        if Store not in sales.keys():\n",
    "            sales[Store] = 0\n",
    "        sales[Store] += dataset.iloc[i][\"Weekly_Sales\"]\n",
    "        \n",
    "    return sales\n",
    "storeSales = getMaxSales(dataset)"
   ]
  },
  {
   "cell_type": "code",
   "execution_count": 31,
   "metadata": {},
   "outputs": [
    {
     "data": {
      "text/html": [
       "<div>\n",
       "<style scoped>\n",
       "    .dataframe tbody tr th:only-of-type {\n",
       "        vertical-align: middle;\n",
       "    }\n",
       "\n",
       "    .dataframe tbody tr th {\n",
       "        vertical-align: top;\n",
       "    }\n",
       "\n",
       "    .dataframe thead th {\n",
       "        text-align: right;\n",
       "    }\n",
       "</style>\n",
       "<table border=\"1\" class=\"dataframe\">\n",
       "  <thead>\n",
       "    <tr style=\"text-align: right;\">\n",
       "      <th></th>\n",
       "      <th>Store</th>\n",
       "      <th>Sales</th>\n",
       "    </tr>\n",
       "  </thead>\n",
       "  <tbody>\n",
       "    <tr>\n",
       "      <th>0</th>\n",
       "      <td>1</td>\n",
       "      <td>2.224028e+08</td>\n",
       "    </tr>\n",
       "    <tr>\n",
       "      <th>1</th>\n",
       "      <td>2</td>\n",
       "      <td>2.753824e+08</td>\n",
       "    </tr>\n",
       "    <tr>\n",
       "      <th>2</th>\n",
       "      <td>3</td>\n",
       "      <td>5.758674e+07</td>\n",
       "    </tr>\n",
       "    <tr>\n",
       "      <th>3</th>\n",
       "      <td>4</td>\n",
       "      <td>2.995440e+08</td>\n",
       "    </tr>\n",
       "    <tr>\n",
       "      <th>4</th>\n",
       "      <td>5</td>\n",
       "      <td>4.547569e+07</td>\n",
       "    </tr>\n",
       "  </tbody>\n",
       "</table>\n",
       "</div>"
      ],
      "text/plain": [
       "   Store         Sales\n",
       "0      1  2.224028e+08\n",
       "1      2  2.753824e+08\n",
       "2      3  5.758674e+07\n",
       "3      4  2.995440e+08\n",
       "4      5  4.547569e+07"
      ]
     },
     "execution_count": 31,
     "metadata": {},
     "output_type": "execute_result"
    }
   ],
   "source": [
    "#Converting into a dataframe\n",
    "\n",
    "storeSales = {'Store': list(storeSales.keys()), 'Sales': list(storeSales.values())}\n",
    "storeSales = pd.DataFrame.from_dict(storeSales)\n",
    "storeSales.head(5)"
   ]
  },
  {
   "cell_type": "markdown",
   "metadata": {},
   "source": [
    "<h3>Plotting the sales of the stores as a bar graph</h4>"
   ]
  },
  {
   "cell_type": "code",
   "execution_count": 32,
   "metadata": {},
   "outputs": [
    {
     "data": {
      "text/plain": [
       "Text(0.5, 1.0, 'Storewise Sales')"
      ]
     },
     "execution_count": 32,
     "metadata": {},
     "output_type": "execute_result"
    },
    {
     "data": {
      "image/png": "[encoded data removed]",
      "text/plain": [
       "<Figure size 1440x720 with 1 Axes>"
      ]
     },
     "metadata": {},
     "output_type": "display_data"
    }
   ],
   "source": [
    "fig, ax = plt.subplots(figsize = (20,10))\n",
    "sns.set_color_codes(\"pastel\")\n",
    "sns.barplot(x = \"Store\", y = \"Sales\", data = storeSales, color = \"b\").set_title(\"Storewise Sales\")"
   ]
  },
  {
   "cell_type": "code",
   "execution_count": 33,
   "metadata": {},
   "outputs": [
    {
     "name": "stdout",
     "output_type": "stream",
     "text": [
      "The store with maximum sales is : 20\n",
      "The store with minimum sales is : 33\n"
     ]
    }
   ],
   "source": [
    "#Finding max and min stores sales \n",
    "\n",
    "storeM = storeSales[storeSales[\"Sales\"] == max(storeSales[\"Sales\"])][\"Store\"].values\n",
    "storem = storeSales[storeSales[\"Sales\"] == min(storeSales[\"Sales\"])][\"Store\"].values\n",
    "print(\"The store with maximum sales is : \" + str(storeM[0]))\n",
    "print(\"The store with minimum sales is : \" + str(storem[0]))"
   ]
  },
  {
   "cell_type": "markdown",
   "metadata": {},
   "source": [
    "<p>Store with maximum sale : <strong>20</strong></p>\n",
    "<br>\n",
    "<p>Store with minimum sale : <strong>33</strong></p>"
   ]
  },
  {
   "cell_type": "markdown",
   "metadata": {},
   "source": [
    "<h2>[2] Finding the store with max standard deviation</h2>"
   ]
  },
  {
   "cell_type": "code",
   "execution_count": 34,
   "metadata": {},
   "outputs": [
    {
     "data": {
      "text/html": [
       "<div>\n",
       "<style scoped>\n",
       "    .dataframe tbody tr th:only-of-type {\n",
       "        vertical-align: middle;\n",
       "    }\n",
       "\n",
       "    .dataframe tbody tr th {\n",
       "        vertical-align: top;\n",
       "    }\n",
       "\n",
       "    .dataframe thead th {\n",
       "        text-align: right;\n",
       "    }\n",
       "</style>\n",
       "<table border=\"1\" class=\"dataframe\">\n",
       "  <thead>\n",
       "    <tr style=\"text-align: right;\">\n",
       "      <th></th>\n",
       "      <th>Store</th>\n",
       "      <th>Standard_Deviation</th>\n",
       "      <th>Holiday_Flag</th>\n",
       "      <th>Temperature</th>\n",
       "      <th>Temperature</th>\n",
       "      <th>CPI</th>\n",
       "      <th>Unemployment</th>\n",
       "    </tr>\n",
       "  </thead>\n",
       "  <tbody>\n",
       "    <tr>\n",
       "      <th>0</th>\n",
       "      <td>1</td>\n",
       "      <td>155980.767761</td>\n",
       "      <td>0.255926</td>\n",
       "      <td>14.250486</td>\n",
       "      <td>0.427313</td>\n",
       "      <td>4.350890</td>\n",
       "      <td>0.383749</td>\n",
       "    </tr>\n",
       "    <tr>\n",
       "      <th>1</th>\n",
       "      <td>2</td>\n",
       "      <td>237683.694682</td>\n",
       "      <td>0.255926</td>\n",
       "      <td>15.492766</td>\n",
       "      <td>0.427313</td>\n",
       "      <td>4.342286</td>\n",
       "      <td>0.615414</td>\n",
       "    </tr>\n",
       "    <tr>\n",
       "      <th>2</th>\n",
       "      <td>3</td>\n",
       "      <td>46319.631557</td>\n",
       "      <td>0.255926</td>\n",
       "      <td>12.645851</td>\n",
       "      <td>0.427313</td>\n",
       "      <td>4.434232</td>\n",
       "      <td>0.447245</td>\n",
       "    </tr>\n",
       "    <tr>\n",
       "      <th>3</th>\n",
       "      <td>4</td>\n",
       "      <td>266201.442297</td>\n",
       "      <td>0.255926</td>\n",
       "      <td>16.180023</td>\n",
       "      <td>0.416967</td>\n",
       "      <td>1.858300</td>\n",
       "      <td>1.421267</td>\n",
       "    </tr>\n",
       "    <tr>\n",
       "      <th>4</th>\n",
       "      <td>5</td>\n",
       "      <td>37737.965745</td>\n",
       "      <td>0.255926</td>\n",
       "      <td>14.225352</td>\n",
       "      <td>0.427313</td>\n",
       "      <td>4.364848</td>\n",
       "      <td>0.387415</td>\n",
       "    </tr>\n",
       "  </tbody>\n",
       "</table>\n",
       "</div>"
      ],
      "text/plain": [
       "   Store  Standard_Deviation  Holiday_Flag  Temperature  Temperature  \\\n",
       "0      1       155980.767761      0.255926    14.250486     0.427313   \n",
       "1      2       237683.694682      0.255926    15.492766     0.427313   \n",
       "2      3        46319.631557      0.255926    12.645851     0.427313   \n",
       "3      4       266201.442297      0.255926    16.180023     0.416967   \n",
       "4      5        37737.965745      0.255926    14.225352     0.427313   \n",
       "\n",
       "        CPI  Unemployment  \n",
       "0  4.350890      0.383749  \n",
       "1  4.342286      0.615414  \n",
       "2  4.434232      0.447245  \n",
       "3  1.858300      1.421267  \n",
       "4  4.364848      0.387415  "
      ]
     },
     "execution_count": 34,
     "metadata": {},
     "output_type": "execute_result"
    }
   ],
   "source": [
    "#Making a new dataframe\n",
    "\n",
    "d = dataset.groupby(by = [\"Store\"]).std()\n",
    "d.reset_index(inplace = True)\n",
    "d.columns = [\"Store\", \"Standard_Deviation\", \"Holiday_Flag\", \"Temperature\", \"Temperature\" ,\"CPI\", \"Unemployment\"]\n",
    "d.head()"
   ]
  },
  {
   "cell_type": "markdown",
   "metadata": {},
   "source": [
    "<h3>Plotting the standard deviation in bar plot</h3>"
   ]
  },
  {
   "cell_type": "code",
   "execution_count": 35,
   "metadata": {},
   "outputs": [
    {
     "data": {
      "text/plain": [
       "<matplotlib.axes._subplots.AxesSubplot at 0x18704625f88>"
      ]
     },
     "execution_count": 35,
     "metadata": {},
     "output_type": "execute_result"
    },
    {
     "data": {
      "image/png": "[encoded data removed]",
      "text/plain": [
       "<Figure size 1440x720 with 1 Axes>"
      ]
     },
     "metadata": {},
     "output_type": "display_data"
    }
   ],
   "source": [
    "fig, ax = plt.subplots(figsize = (20,10))\n",
    "sns.set_color_codes(\"pastel\")\n",
    "sns.barplot(x = \"Store\", y = \"Standard_Deviation\", data = d, color = \"b\")"
   ]
  },
  {
   "cell_type": "code",
   "execution_count": 38,
   "metadata": {},
   "outputs": [
    {
     "data": {
      "text/plain": [
       "array([317569.94947551])"
      ]
     },
     "execution_count": 38,
     "metadata": {},
     "output_type": "execute_result"
    }
   ],
   "source": [
    "sd = d[d[\"Store\"] == 14][\"Standard_Deviation\"].values\n",
    "sd"
   ]
  },
  {
   "cell_type": "code",
   "execution_count": 39,
   "metadata": {},
   "outputs": [
    {
     "data": {
      "text/plain": [
       "array([2020978.40097902])"
      ]
     },
     "execution_count": 39,
     "metadata": {},
     "output_type": "execute_result"
    }
   ],
   "source": [
    "e = dataset.groupby(by = [\"Store\"]).mean()\n",
    "e.reset_index(inplace = True)\n",
    "e.columns = [\"Store\", \"Mean\", \"Holiday_Flag\", \"Temperature\", \"Temperature\" ,\"CPI\", \"Unemployment\"]\n",
    "mean = e[e[\"Store\"] == 14][\"Mean\"].values\n",
    "mean"
   ]
  },
  {
   "cell_type": "markdown",
   "metadata": {},
   "source": [
    "<p>We can see that store <strong>14</strong> has maximum standard deviation, standard devation is <strong>317569.94947551</strong> and mean is <strong>2020978.40097902</strong></p>"
   ]
  },
  {
   "cell_type": "markdown",
   "metadata": {},
   "source": [
    "<h3>Finding the coefficient of mean to standard deviation</h3>\n",
    "<br>\n",
    "<p>coefficient of mean to standard deviation = (sd/mean)*100</p>"
   ]
  },
  {
   "cell_type": "code",
   "execution_count": 40,
   "metadata": {},
   "outputs": [
    {
     "name": "stdout",
     "output_type": "stream",
     "text": [
      "The coeff of mean to standard deviation is : 15.71367360094833\n"
     ]
    }
   ],
   "source": [
    "Coeff_of_mean_to_sd = (sd[0,]/mean[0,]) * 100\n",
    "print(\"The coeff of mean to standard deviation is : \" + str(Coeff_of_mean_to_sd))"
   ]
  },
  {
   "cell_type": "markdown",
   "metadata": {},
   "source": [
    "<p>Coeff of mean to standard deviation = <strong>15.71367360094833</strong></p>"
   ]
  },
  {
   "cell_type": "markdown",
   "metadata": {},
   "source": [
    "<h2>[3] Finding impact of holidays</h2>"
   ]
  },
  {
   "cell_type": "code",
   "execution_count": 46,
   "metadata": {},
   "outputs": [
    {
     "data": {
      "text/plain": [
       "143"
      ]
     },
     "execution_count": 46,
     "metadata": {},
     "output_type": "execute_result"
    }
   ],
   "source": [
    "#Number of unique dates\n",
    "\n",
    "dataset[\"Date\"].nunique()"
   ]
  },
  {
   "cell_type": "code",
   "execution_count": 47,
   "metadata": {},
   "outputs": [
    {
     "name": "stdout",
     "output_type": "stream",
     "text": [
      "{'12-02-2010': 1074148.3917777783, '10-09-2010': 1014097.7297777778, '26-11-2010': 1462688.9608888887, '31-12-2010': 898500.4222222222, '11-02-2011': 1051915.3953333339, '09-09-2011': 1039182.8339999999, '25-11-2011': 1479857.8946666664, '30-12-2011': 1023165.800888889, '10-02-2012': 1111320.176, '07-09-2012': 1074001.318}\n"
     ]
    }
   ],
   "source": [
    "#Utility function that calculate the mean sale of all stores at a particular holiday\n",
    "\n",
    "def holidayAffect(dataset):\n",
    "    holidaySales = {}\n",
    "    for i in range(6435):\n",
    "        if dataset.iloc[i][\"Holiday_Flag\"] == 1:\n",
    "            date = dataset.iloc[i][\"Date\"]\n",
    "            if date not in holidaySales.keys():\n",
    "                holidaySales[date] = 0\n",
    "            holidaySales[date] = holidaySales[date] + dataset.iloc[i][\"Weekly_Sales\"]\n",
    "    return holidaySales\n",
    "\n",
    "holidaySales = holidayAffect(dataset)\n",
    "\n",
    "for i in holidaySales.keys():\n",
    "    holidaySales[i] = holidaySales[i] / 45\n",
    "    \n",
    "print(holidaySales)"
   ]
  },
  {
   "cell_type": "code",
   "execution_count": 48,
   "metadata": {},
   "outputs": [
    {
     "data": {
      "text/plain": [
       "1041256.3802088564"
      ]
     },
     "execution_count": 48,
     "metadata": {},
     "output_type": "execute_result"
    }
   ],
   "source": [
    "#Mean sales for all stores for non-holidays days \n",
    "\n",
    "def meanNonHolidaySale(dataset):\n",
    "    mean = 0\n",
    "    c = 0\n",
    "    for i in range(6435):\n",
    "        if dataset.iloc[i][\"Holiday_Flag\"] == 0:\n",
    "           mean = mean + dataset.iloc[i][\"Weekly_Sales\"]\n",
    "           c = c + 1\n",
    "    return mean/c\n",
    "meanNonHoliday = meanNonHolidaySale(dataset)\n",
    "meanNonHoliday"
   ]
  },
  {
   "cell_type": "code",
   "execution_count": 49,
   "metadata": {},
   "outputs": [
    {
     "data": {
      "text/html": [
       "<div>\n",
       "<style scoped>\n",
       "    .dataframe tbody tr th:only-of-type {\n",
       "        vertical-align: middle;\n",
       "    }\n",
       "\n",
       "    .dataframe tbody tr th {\n",
       "        vertical-align: top;\n",
       "    }\n",
       "\n",
       "    .dataframe thead th {\n",
       "        text-align: right;\n",
       "    }\n",
       "</style>\n",
       "<table border=\"1\" class=\"dataframe\">\n",
       "  <thead>\n",
       "    <tr style=\"text-align: right;\">\n",
       "      <th></th>\n",
       "      <th>Holiday</th>\n",
       "      <th>Sales</th>\n",
       "    </tr>\n",
       "  </thead>\n",
       "  <tbody>\n",
       "    <tr>\n",
       "      <th>0</th>\n",
       "      <td>12-02-2010</td>\n",
       "      <td>1.074148e+06</td>\n",
       "    </tr>\n",
       "    <tr>\n",
       "      <th>1</th>\n",
       "      <td>10-09-2010</td>\n",
       "      <td>1.014098e+06</td>\n",
       "    </tr>\n",
       "    <tr>\n",
       "      <th>2</th>\n",
       "      <td>26-11-2010</td>\n",
       "      <td>1.462689e+06</td>\n",
       "    </tr>\n",
       "    <tr>\n",
       "      <th>3</th>\n",
       "      <td>31-12-2010</td>\n",
       "      <td>8.985004e+05</td>\n",
       "    </tr>\n",
       "    <tr>\n",
       "      <th>4</th>\n",
       "      <td>11-02-2011</td>\n",
       "      <td>1.051915e+06</td>\n",
       "    </tr>\n",
       "    <tr>\n",
       "      <th>5</th>\n",
       "      <td>09-09-2011</td>\n",
       "      <td>1.039183e+06</td>\n",
       "    </tr>\n",
       "    <tr>\n",
       "      <th>6</th>\n",
       "      <td>25-11-2011</td>\n",
       "      <td>1.479858e+06</td>\n",
       "    </tr>\n",
       "    <tr>\n",
       "      <th>7</th>\n",
       "      <td>30-12-2011</td>\n",
       "      <td>1.023166e+06</td>\n",
       "    </tr>\n",
       "    <tr>\n",
       "      <th>8</th>\n",
       "      <td>10-02-2012</td>\n",
       "      <td>1.111320e+06</td>\n",
       "    </tr>\n",
       "    <tr>\n",
       "      <th>9</th>\n",
       "      <td>07-09-2012</td>\n",
       "      <td>1.074001e+06</td>\n",
       "    </tr>\n",
       "  </tbody>\n",
       "</table>\n",
       "</div>"
      ],
      "text/plain": [
       "      Holiday         Sales\n",
       "0  12-02-2010  1.074148e+06\n",
       "1  10-09-2010  1.014098e+06\n",
       "2  26-11-2010  1.462689e+06\n",
       "3  31-12-2010  8.985004e+05\n",
       "4  11-02-2011  1.051915e+06\n",
       "5  09-09-2011  1.039183e+06\n",
       "6  25-11-2011  1.479858e+06\n",
       "7  30-12-2011  1.023166e+06\n",
       "8  10-02-2012  1.111320e+06\n",
       "9  07-09-2012  1.074001e+06"
      ]
     },
     "execution_count": 49,
     "metadata": {},
     "output_type": "execute_result"
    }
   ],
   "source": [
    "#Converting the holiday sales dictionary into a dataframe\n",
    "\n",
    "holidaySales = {'Holiday': list(holidaySales.keys()), 'Sales': list(holidaySales.values())}\n",
    "holidaySales = pd.DataFrame.from_dict(holidaySales)\n",
    "holidaySales"
   ]
  },
  {
   "cell_type": "markdown",
   "metadata": {},
   "source": [
    "<h3>Plotting graphs for sales in holidays</h3>"
   ]
  },
  {
   "cell_type": "code",
   "execution_count": 50,
   "metadata": {},
   "outputs": [
    {
     "data": {
      "text/plain": [
       "<matplotlib.axes._subplots.AxesSubplot at 0x18704bb2288>"
      ]
     },
     "execution_count": 50,
     "metadata": {},
     "output_type": "execute_result"
    },
    {
     "data": {
      "image/png": "[encoded data removed]",
      "text/plain": [
       "<Figure size 1440x720 with 1 Axes>"
      ]
     },
     "metadata": {},
     "output_type": "display_data"
    }
   ],
   "source": [
    "fig, ax = plt.subplots(figsize = (20,10))\n",
    "sns.set_color_codes(\"pastel\")\n",
    "sns.barplot(x = \"Holiday\", y = \"Sales\", data = holidaySales, color = \"b\")"
   ]
  },
  {
   "cell_type": "markdown",
   "metadata": {},
   "source": [
    "<p>Holiday sales are maximum on <strong>26-11-2010</strong> and <strong>25-11-2011</strong>, i.e in the month of November</p>"
   ]
  },
  {
   "cell_type": "markdown",
   "metadata": {},
   "source": [
    "<h3>Finding those holidays whose sale is more than mean non-holiday sales</h3>"
   ]
  },
  {
   "cell_type": "code",
   "execution_count": 51,
   "metadata": {},
   "outputs": [
    {
     "name": "stdout",
     "output_type": "stream",
     "text": [
      "Holidays having higher sales than mean sales of non-holidays : \n",
      "12-02-2010\n",
      "26-11-2010\n",
      "11-02-2011\n",
      "25-11-2011\n",
      "10-02-2012\n",
      "07-09-2012\n"
     ]
    }
   ],
   "source": [
    "#Utility function to find holidays whose sale is more than mean non-holiday sales\n",
    "\n",
    "holidaysBetterSales = []\n",
    "for i in holidaySales[\"Sales\"]:\n",
    "    if i > meanNonHoliday:\n",
    "        holidaysBetterSales.append(holidaySales[holidaySales[\"Sales\"] == i][\"Holiday\"].values[0,])\n",
    "print(\"Holidays having higher sales than mean sales of non-holidays : \")\n",
    "for i in holidaysBetterSales:\n",
    "    print(i)"
   ]
  },
  {
   "cell_type": "markdown",
   "metadata": {},
   "source": [
    "<p>Holidays whose sale is more than mean non-holiday sales are : </p>\n",
    "<br>\n",
    "<strong>12-02-2010</strong>\n",
    "<br>\n",
    "<strong>26-11-2010</strong>\n",
    "<br>\n",
    "<strong>11-02-2011</strong>\n",
    "<br>\n",
    "<strong>25-11-2011</strong>\n",
    "<br>\n",
    "<strong>10-02-2012</strong>\n",
    "<br>\n",
    "<strong>07-09-2012</strong>"
   ]
  },
  {
   "cell_type": "markdown",
   "metadata": {},
   "source": [
    "<h2>[4] Finding monthly sales for the stores</h2>"
   ]
  },
  {
   "cell_type": "code",
   "execution_count": 52,
   "metadata": {},
   "outputs": [
    {
     "name": "stdout",
     "output_type": "stream",
     "text": [
      "{2010: [0, 190332983.04, 181919802.5, 231412368.0500001, 186710934.34000003, 192246172.36000004, 232580125.9800001, 187640110.89000002, 177267896.36999997, 217161824.02, 202853370.14, 288760532.71999997], 2011: [163703966.83000007, 186331327.86999992, 179356448.29000002, 226526510.9700001, 181648158.16, 189773385.19000003, 229911398.87000012, 188599332.24999988, 220847738.41999993, 183261283.15000007, 210162354.87, 288078102.4800002], 2012: [168894471.66000006, 192063579.54000008, 231509650.4899999, 188920905.95000002, 188766479.4499998, 240610329.28999984, 187509452.40000004, 236850765.67999992, 180645544.46999988, 184361680.41999996, 0, 0]}\n"
     ]
    }
   ],
   "source": [
    "#Utility function to store monthwise sales for each year\n",
    "\n",
    "def yearWiseMonthlySales(dataset):\n",
    "    sales = {}\n",
    "    for i in range (6435):\n",
    "        date = dataset.iloc[i][\"Date\"].split(\"-\")\n",
    "        month = int(date[1])\n",
    "        year = int(date[2])\n",
    "        if year not in sales.keys():\n",
    "            sales[year] = [0,0,0,0,0,0,0,0,0,0,0,0]\n",
    "        sale = dataset.iloc[i][\"Weekly_Sales\"]\n",
    "        sales[year][month-1] +=  sale\n",
    "    return sales\n",
    "sales = yearWiseMonthlySales(dataset)\n",
    "print(sales)"
   ]
  },
  {
   "cell_type": "code",
   "execution_count": 53,
   "metadata": {},
   "outputs": [],
   "source": [
    "#Converting into dictionary and renaming indices\n",
    "\n",
    "storeWiseMonthlySale = pd.DataFrame.from_dict(sales)\n",
    "storeWiseMonthlySale = storeWiseMonthlySale.rename(index = {0 : \"Jan\", 1 : \"Feb\", 2 :\"Mar\", 3 :\"Apr\", 4 : \"May\", 5 : \"Jun\", 6 : \"Jul\", 7 : \"Aug\", 8 : \"Sep\", 9 : \"Oct\", 10 : \"Nov\", 11 : \"Dec\"})"
   ]
  },
  {
   "cell_type": "code",
   "execution_count": 54,
   "metadata": {},
   "outputs": [
    {
     "data": {
      "text/html": [
       "<div>\n",
       "<style scoped>\n",
       "    .dataframe tbody tr th:only-of-type {\n",
       "        vertical-align: middle;\n",
       "    }\n",
       "\n",
       "    .dataframe tbody tr th {\n",
       "        vertical-align: top;\n",
       "    }\n",
       "\n",
       "    .dataframe thead th {\n",
       "        text-align: right;\n",
       "    }\n",
       "</style>\n",
       "<table border=\"1\" class=\"dataframe\">\n",
       "  <thead>\n",
       "    <tr style=\"text-align: right;\">\n",
       "      <th></th>\n",
       "      <th>2010</th>\n",
       "      <th>2011</th>\n",
       "      <th>2012</th>\n",
       "    </tr>\n",
       "  </thead>\n",
       "  <tbody>\n",
       "    <tr>\n",
       "      <th>Jan</th>\n",
       "      <td>0.000000e+00</td>\n",
       "      <td>1.637040e+08</td>\n",
       "      <td>1.688945e+08</td>\n",
       "    </tr>\n",
       "    <tr>\n",
       "      <th>Feb</th>\n",
       "      <td>1.903330e+08</td>\n",
       "      <td>1.863313e+08</td>\n",
       "      <td>1.920636e+08</td>\n",
       "    </tr>\n",
       "    <tr>\n",
       "      <th>Mar</th>\n",
       "      <td>1.819198e+08</td>\n",
       "      <td>1.793564e+08</td>\n",
       "      <td>2.315097e+08</td>\n",
       "    </tr>\n",
       "    <tr>\n",
       "      <th>Apr</th>\n",
       "      <td>2.314124e+08</td>\n",
       "      <td>2.265265e+08</td>\n",
       "      <td>1.889209e+08</td>\n",
       "    </tr>\n",
       "    <tr>\n",
       "      <th>May</th>\n",
       "      <td>1.867109e+08</td>\n",
       "      <td>1.816482e+08</td>\n",
       "      <td>1.887665e+08</td>\n",
       "    </tr>\n",
       "    <tr>\n",
       "      <th>Jun</th>\n",
       "      <td>1.922462e+08</td>\n",
       "      <td>1.897734e+08</td>\n",
       "      <td>2.406103e+08</td>\n",
       "    </tr>\n",
       "    <tr>\n",
       "      <th>Jul</th>\n",
       "      <td>2.325801e+08</td>\n",
       "      <td>2.299114e+08</td>\n",
       "      <td>1.875095e+08</td>\n",
       "    </tr>\n",
       "    <tr>\n",
       "      <th>Aug</th>\n",
       "      <td>1.876401e+08</td>\n",
       "      <td>1.885993e+08</td>\n",
       "      <td>2.368508e+08</td>\n",
       "    </tr>\n",
       "    <tr>\n",
       "      <th>Sep</th>\n",
       "      <td>1.772679e+08</td>\n",
       "      <td>2.208477e+08</td>\n",
       "      <td>1.806455e+08</td>\n",
       "    </tr>\n",
       "    <tr>\n",
       "      <th>Oct</th>\n",
       "      <td>2.171618e+08</td>\n",
       "      <td>1.832613e+08</td>\n",
       "      <td>1.843617e+08</td>\n",
       "    </tr>\n",
       "    <tr>\n",
       "      <th>Nov</th>\n",
       "      <td>2.028534e+08</td>\n",
       "      <td>2.101624e+08</td>\n",
       "      <td>0.000000e+00</td>\n",
       "    </tr>\n",
       "    <tr>\n",
       "      <th>Dec</th>\n",
       "      <td>2.887605e+08</td>\n",
       "      <td>2.880781e+08</td>\n",
       "      <td>0.000000e+00</td>\n",
       "    </tr>\n",
       "  </tbody>\n",
       "</table>\n",
       "</div>"
      ],
      "text/plain": [
       "             2010          2011          2012\n",
       "Jan  0.000000e+00  1.637040e+08  1.688945e+08\n",
       "Feb  1.903330e+08  1.863313e+08  1.920636e+08\n",
       "Mar  1.819198e+08  1.793564e+08  2.315097e+08\n",
       "Apr  2.314124e+08  2.265265e+08  1.889209e+08\n",
       "May  1.867109e+08  1.816482e+08  1.887665e+08\n",
       "Jun  1.922462e+08  1.897734e+08  2.406103e+08\n",
       "Jul  2.325801e+08  2.299114e+08  1.875095e+08\n",
       "Aug  1.876401e+08  1.885993e+08  2.368508e+08\n",
       "Sep  1.772679e+08  2.208477e+08  1.806455e+08\n",
       "Oct  2.171618e+08  1.832613e+08  1.843617e+08\n",
       "Nov  2.028534e+08  2.101624e+08  0.000000e+00\n",
       "Dec  2.887605e+08  2.880781e+08  0.000000e+00"
      ]
     },
     "execution_count": 54,
     "metadata": {},
     "output_type": "execute_result"
    }
   ],
   "source": [
    "storeWiseMonthlySale"
   ]
  },
  {
   "cell_type": "markdown",
   "metadata": {},
   "source": [
    "<h3>PLotting the stacked graph</h3>"
   ]
  },
  {
   "cell_type": "code",
   "execution_count": 86,
   "metadata": {},
   "outputs": [
    {
     "data": {
      "text/plain": [
       "Text(0, 0.5, 'Sales')"
      ]
     },
     "execution_count": 86,
     "metadata": {},
     "output_type": "execute_result"
    },
    {
     "data": {
      "image/png": "[encoded data removed]",
      "text/plain": [
       "<Figure size 1440x720 with 1 Axes>"
      ]
     },
     "metadata": {},
     "output_type": "display_data"
    }
   ],
   "source": [
    "storeWiseMonthlySale.plot.bar(stacked = True, figsize = (20,10))\n",
    "plt.xlabel(\"Month\")\n",
    "plt.ylabel(\"Sales\")"
   ]
  },
  {
   "cell_type": "markdown",
   "metadata": {},
   "source": [
    "<p>We can see that the months of  April, July and December have high sales. Also year details some months are missing in the dataset</p>"
   ]
  },
  {
   "cell_type": "markdown",
   "metadata": {},
   "source": [
    "<h2>Linear Regression model for predicting sales for Store 2</h2>"
   ]
  },
  {
   "cell_type": "code",
   "execution_count": 56,
   "metadata": {},
   "outputs": [
    {
     "data": {
      "text/html": [
       "<div>\n",
       "<style scoped>\n",
       "    .dataframe tbody tr th:only-of-type {\n",
       "        vertical-align: middle;\n",
       "    }\n",
       "\n",
       "    .dataframe tbody tr th {\n",
       "        vertical-align: top;\n",
       "    }\n",
       "\n",
       "    .dataframe thead th {\n",
       "        text-align: right;\n",
       "    }\n",
       "</style>\n",
       "<table border=\"1\" class=\"dataframe\">\n",
       "  <thead>\n",
       "    <tr style=\"text-align: right;\">\n",
       "      <th></th>\n",
       "      <th>Store</th>\n",
       "      <th>Date</th>\n",
       "      <th>Weekly_Sales</th>\n",
       "      <th>Holiday_Flag</th>\n",
       "      <th>Temperature</th>\n",
       "      <th>Fuel_Price</th>\n",
       "      <th>CPI</th>\n",
       "      <th>Unemployment</th>\n",
       "    </tr>\n",
       "  </thead>\n",
       "  <tbody>\n",
       "    <tr>\n",
       "      <th>0</th>\n",
       "      <td>1</td>\n",
       "      <td>05-02-2010</td>\n",
       "      <td>1643690.90</td>\n",
       "      <td>0</td>\n",
       "      <td>42.31</td>\n",
       "      <td>2.572</td>\n",
       "      <td>211.096358</td>\n",
       "      <td>8.106</td>\n",
       "    </tr>\n",
       "    <tr>\n",
       "      <th>1</th>\n",
       "      <td>1</td>\n",
       "      <td>12-02-2010</td>\n",
       "      <td>1641957.44</td>\n",
       "      <td>1</td>\n",
       "      <td>38.51</td>\n",
       "      <td>2.548</td>\n",
       "      <td>211.242170</td>\n",
       "      <td>8.106</td>\n",
       "    </tr>\n",
       "    <tr>\n",
       "      <th>2</th>\n",
       "      <td>1</td>\n",
       "      <td>19-02-2010</td>\n",
       "      <td>1611968.17</td>\n",
       "      <td>0</td>\n",
       "      <td>39.93</td>\n",
       "      <td>2.514</td>\n",
       "      <td>211.289143</td>\n",
       "      <td>8.106</td>\n",
       "    </tr>\n",
       "    <tr>\n",
       "      <th>3</th>\n",
       "      <td>1</td>\n",
       "      <td>26-02-2010</td>\n",
       "      <td>1409727.59</td>\n",
       "      <td>0</td>\n",
       "      <td>46.63</td>\n",
       "      <td>2.561</td>\n",
       "      <td>211.319643</td>\n",
       "      <td>8.106</td>\n",
       "    </tr>\n",
       "    <tr>\n",
       "      <th>4</th>\n",
       "      <td>1</td>\n",
       "      <td>05-03-2010</td>\n",
       "      <td>1554806.68</td>\n",
       "      <td>0</td>\n",
       "      <td>46.50</td>\n",
       "      <td>2.625</td>\n",
       "      <td>211.350143</td>\n",
       "      <td>8.106</td>\n",
       "    </tr>\n",
       "  </tbody>\n",
       "</table>\n",
       "</div>"
      ],
      "text/plain": [
       "   Store        Date  Weekly_Sales  Holiday_Flag  Temperature  Fuel_Price  \\\n",
       "0      1  05-02-2010    1643690.90             0        42.31       2.572   \n",
       "1      1  12-02-2010    1641957.44             1        38.51       2.548   \n",
       "2      1  19-02-2010    1611968.17             0        39.93       2.514   \n",
       "3      1  26-02-2010    1409727.59             0        46.63       2.561   \n",
       "4      1  05-03-2010    1554806.68             0        46.50       2.625   \n",
       "\n",
       "          CPI  Unemployment  \n",
       "0  211.096358         8.106  \n",
       "1  211.242170         8.106  \n",
       "2  211.289143         8.106  \n",
       "3  211.319643         8.106  \n",
       "4  211.350143         8.106  "
      ]
     },
     "execution_count": 56,
     "metadata": {},
     "output_type": "execute_result"
    }
   ],
   "source": [
    "dataset.head()"
   ]
  },
  {
   "cell_type": "code",
   "execution_count": 57,
   "metadata": {},
   "outputs": [
    {
     "data": {
      "text/html": [
       "<div>\n",
       "<style scoped>\n",
       "    .dataframe tbody tr th:only-of-type {\n",
       "        vertical-align: middle;\n",
       "    }\n",
       "\n",
       "    .dataframe tbody tr th {\n",
       "        vertical-align: top;\n",
       "    }\n",
       "\n",
       "    .dataframe thead th {\n",
       "        text-align: right;\n",
       "    }\n",
       "</style>\n",
       "<table border=\"1\" class=\"dataframe\">\n",
       "  <thead>\n",
       "    <tr style=\"text-align: right;\">\n",
       "      <th></th>\n",
       "      <th>Date</th>\n",
       "      <th>Weekly_Sales</th>\n",
       "      <th>Holiday_Flag</th>\n",
       "      <th>Temperature</th>\n",
       "      <th>Fuel_Price</th>\n",
       "      <th>CPI</th>\n",
       "      <th>Unemployment</th>\n",
       "    </tr>\n",
       "  </thead>\n",
       "  <tbody>\n",
       "    <tr>\n",
       "      <th>0</th>\n",
       "      <td>05-02-2010</td>\n",
       "      <td>2136989.46</td>\n",
       "      <td>0</td>\n",
       "      <td>40.19</td>\n",
       "      <td>2.572</td>\n",
       "      <td>210.752605</td>\n",
       "      <td>8.324</td>\n",
       "    </tr>\n",
       "    <tr>\n",
       "      <th>1</th>\n",
       "      <td>12-02-2010</td>\n",
       "      <td>2137809.50</td>\n",
       "      <td>1</td>\n",
       "      <td>38.49</td>\n",
       "      <td>2.548</td>\n",
       "      <td>210.897994</td>\n",
       "      <td>8.324</td>\n",
       "    </tr>\n",
       "    <tr>\n",
       "      <th>2</th>\n",
       "      <td>19-02-2010</td>\n",
       "      <td>2124451.54</td>\n",
       "      <td>0</td>\n",
       "      <td>39.69</td>\n",
       "      <td>2.514</td>\n",
       "      <td>210.945160</td>\n",
       "      <td>8.324</td>\n",
       "    </tr>\n",
       "    <tr>\n",
       "      <th>3</th>\n",
       "      <td>26-02-2010</td>\n",
       "      <td>1865097.27</td>\n",
       "      <td>0</td>\n",
       "      <td>46.10</td>\n",
       "      <td>2.561</td>\n",
       "      <td>210.975957</td>\n",
       "      <td>8.324</td>\n",
       "    </tr>\n",
       "    <tr>\n",
       "      <th>4</th>\n",
       "      <td>05-03-2010</td>\n",
       "      <td>1991013.13</td>\n",
       "      <td>0</td>\n",
       "      <td>47.17</td>\n",
       "      <td>2.625</td>\n",
       "      <td>211.006754</td>\n",
       "      <td>8.324</td>\n",
       "    </tr>\n",
       "  </tbody>\n",
       "</table>\n",
       "</div>"
      ],
      "text/plain": [
       "         Date  Weekly_Sales  Holiday_Flag  Temperature  Fuel_Price  \\\n",
       "0  05-02-2010    2136989.46             0        40.19       2.572   \n",
       "1  12-02-2010    2137809.50             1        38.49       2.548   \n",
       "2  19-02-2010    2124451.54             0        39.69       2.514   \n",
       "3  26-02-2010    1865097.27             0        46.10       2.561   \n",
       "4  05-03-2010    1991013.13             0        47.17       2.625   \n",
       "\n",
       "          CPI  Unemployment  \n",
       "0  210.752605         8.324  \n",
       "1  210.897994         8.324  \n",
       "2  210.945160         8.324  \n",
       "3  210.975957         8.324  \n",
       "4  211.006754         8.324  "
      ]
     },
     "execution_count": 57,
     "metadata": {},
     "output_type": "execute_result"
    }
   ],
   "source": [
    "#Segregating store 2 and making dataframe for it\n",
    "\n",
    "store2 = {\"Date\" : [], \"Weekly_Sales\" : [], \"Holiday_Flag\" : [], \"Temperature\"  : [], \"Fuel_Price\" : [], \"CPI\" : [], \"Unemployment\" : []}\n",
    "for i in range(6435):\n",
    "    if dataset.iloc[i][\"Store\"] == 2:\n",
    "        store2[\"Date\"].append(dataset.iloc[i][\"Date\"])\n",
    "        store2[\"Weekly_Sales\"].append(dataset.iloc[i][\"Weekly_Sales\"])\n",
    "        store2[\"Holiday_Flag\"].append(dataset.iloc[i][\"Holiday_Flag\"])\n",
    "        store2[\"Temperature\"].append(dataset.iloc[i][\"Temperature\"])\n",
    "        store2[\"Fuel_Price\"].append(dataset.iloc[i][\"Fuel_Price\"])\n",
    "        store2[\"CPI\"].append(dataset.iloc[i][\"CPI\"])\n",
    "        store2[\"Unemployment\"].append(dataset.iloc[i][\"Unemployment\"])\n",
    "store2Data = pd.DataFrame.from_dict(store2)\n",
    "store2Data.head()"
   ]
  },
  {
   "cell_type": "markdown",
   "metadata": {},
   "source": [
    "<p>Shape of dataset</p>"
   ]
  },
  {
   "cell_type": "code",
   "execution_count": 58,
   "metadata": {},
   "outputs": [
    {
     "data": {
      "text/plain": [
       "(143, 7)"
      ]
     },
     "execution_count": 58,
     "metadata": {},
     "output_type": "execute_result"
    }
   ],
   "source": [
    "store2Data.shape"
   ]
  },
  {
   "cell_type": "markdown",
   "metadata": {},
   "source": [
    "<p>Restructuring date</p>"
   ]
  },
  {
   "cell_type": "code",
   "execution_count": 59,
   "metadata": {},
   "outputs": [],
   "source": [
    "reStructuredDates = []\n",
    "for i in range (1, 144):\n",
    "    reStructuredDates.append(i)"
   ]
  },
  {
   "cell_type": "code",
   "execution_count": 60,
   "metadata": {},
   "outputs": [
    {
     "data": {
      "text/html": [
       "<div>\n",
       "<style scoped>\n",
       "    .dataframe tbody tr th:only-of-type {\n",
       "        vertical-align: middle;\n",
       "    }\n",
       "\n",
       "    .dataframe tbody tr th {\n",
       "        vertical-align: top;\n",
       "    }\n",
       "\n",
       "    .dataframe thead th {\n",
       "        text-align: right;\n",
       "    }\n",
       "</style>\n",
       "<table border=\"1\" class=\"dataframe\">\n",
       "  <thead>\n",
       "    <tr style=\"text-align: right;\">\n",
       "      <th></th>\n",
       "      <th>Date</th>\n",
       "      <th>Weekly_Sales</th>\n",
       "      <th>Holiday_Flag</th>\n",
       "      <th>Temperature</th>\n",
       "      <th>Fuel_Price</th>\n",
       "      <th>CPI</th>\n",
       "      <th>Unemployment</th>\n",
       "      <th>RestructuredDates</th>\n",
       "    </tr>\n",
       "  </thead>\n",
       "  <tbody>\n",
       "    <tr>\n",
       "      <th>0</th>\n",
       "      <td>05-02-2010</td>\n",
       "      <td>2136989.46</td>\n",
       "      <td>0</td>\n",
       "      <td>40.19</td>\n",
       "      <td>2.572</td>\n",
       "      <td>210.752605</td>\n",
       "      <td>8.324</td>\n",
       "      <td>1</td>\n",
       "    </tr>\n",
       "    <tr>\n",
       "      <th>1</th>\n",
       "      <td>12-02-2010</td>\n",
       "      <td>2137809.50</td>\n",
       "      <td>1</td>\n",
       "      <td>38.49</td>\n",
       "      <td>2.548</td>\n",
       "      <td>210.897994</td>\n",
       "      <td>8.324</td>\n",
       "      <td>2</td>\n",
       "    </tr>\n",
       "    <tr>\n",
       "      <th>2</th>\n",
       "      <td>19-02-2010</td>\n",
       "      <td>2124451.54</td>\n",
       "      <td>0</td>\n",
       "      <td>39.69</td>\n",
       "      <td>2.514</td>\n",
       "      <td>210.945160</td>\n",
       "      <td>8.324</td>\n",
       "      <td>3</td>\n",
       "    </tr>\n",
       "    <tr>\n",
       "      <th>3</th>\n",
       "      <td>26-02-2010</td>\n",
       "      <td>1865097.27</td>\n",
       "      <td>0</td>\n",
       "      <td>46.10</td>\n",
       "      <td>2.561</td>\n",
       "      <td>210.975957</td>\n",
       "      <td>8.324</td>\n",
       "      <td>4</td>\n",
       "    </tr>\n",
       "    <tr>\n",
       "      <th>4</th>\n",
       "      <td>05-03-2010</td>\n",
       "      <td>1991013.13</td>\n",
       "      <td>0</td>\n",
       "      <td>47.17</td>\n",
       "      <td>2.625</td>\n",
       "      <td>211.006754</td>\n",
       "      <td>8.324</td>\n",
       "      <td>5</td>\n",
       "    </tr>\n",
       "    <tr>\n",
       "      <th>...</th>\n",
       "      <td>...</td>\n",
       "      <td>...</td>\n",
       "      <td>...</td>\n",
       "      <td>...</td>\n",
       "      <td>...</td>\n",
       "      <td>...</td>\n",
       "      <td>...</td>\n",
       "      <td>...</td>\n",
       "    </tr>\n",
       "    <tr>\n",
       "      <th>138</th>\n",
       "      <td>28-09-2012</td>\n",
       "      <td>1746470.56</td>\n",
       "      <td>0</td>\n",
       "      <td>79.45</td>\n",
       "      <td>3.666</td>\n",
       "      <td>222.616433</td>\n",
       "      <td>6.565</td>\n",
       "      <td>139</td>\n",
       "    </tr>\n",
       "    <tr>\n",
       "      <th>139</th>\n",
       "      <td>05-10-2012</td>\n",
       "      <td>1998321.04</td>\n",
       "      <td>0</td>\n",
       "      <td>70.27</td>\n",
       "      <td>3.617</td>\n",
       "      <td>222.815930</td>\n",
       "      <td>6.170</td>\n",
       "      <td>140</td>\n",
       "    </tr>\n",
       "    <tr>\n",
       "      <th>140</th>\n",
       "      <td>12-10-2012</td>\n",
       "      <td>1900745.13</td>\n",
       "      <td>0</td>\n",
       "      <td>60.97</td>\n",
       "      <td>3.601</td>\n",
       "      <td>223.015426</td>\n",
       "      <td>6.170</td>\n",
       "      <td>141</td>\n",
       "    </tr>\n",
       "    <tr>\n",
       "      <th>141</th>\n",
       "      <td>19-10-2012</td>\n",
       "      <td>1847990.41</td>\n",
       "      <td>0</td>\n",
       "      <td>68.08</td>\n",
       "      <td>3.594</td>\n",
       "      <td>223.059808</td>\n",
       "      <td>6.170</td>\n",
       "      <td>142</td>\n",
       "    </tr>\n",
       "    <tr>\n",
       "      <th>142</th>\n",
       "      <td>26-10-2012</td>\n",
       "      <td>1834458.35</td>\n",
       "      <td>0</td>\n",
       "      <td>69.79</td>\n",
       "      <td>3.506</td>\n",
       "      <td>223.078337</td>\n",
       "      <td>6.170</td>\n",
       "      <td>143</td>\n",
       "    </tr>\n",
       "  </tbody>\n",
       "</table>\n",
       "<p>143 rows × 8 columns</p>\n",
       "</div>"
      ],
      "text/plain": [
       "           Date  Weekly_Sales  Holiday_Flag  Temperature  Fuel_Price  \\\n",
       "0    05-02-2010    2136989.46             0        40.19       2.572   \n",
       "1    12-02-2010    2137809.50             1        38.49       2.548   \n",
       "2    19-02-2010    2124451.54             0        39.69       2.514   \n",
       "3    26-02-2010    1865097.27             0        46.10       2.561   \n",
       "4    05-03-2010    1991013.13             0        47.17       2.625   \n",
       "..          ...           ...           ...          ...         ...   \n",
       "138  28-09-2012    1746470.56             0        79.45       3.666   \n",
       "139  05-10-2012    1998321.04             0        70.27       3.617   \n",
       "140  12-10-2012    1900745.13             0        60.97       3.601   \n",
       "141  19-10-2012    1847990.41             0        68.08       3.594   \n",
       "142  26-10-2012    1834458.35             0        69.79       3.506   \n",
       "\n",
       "            CPI  Unemployment  RestructuredDates  \n",
       "0    210.752605         8.324                  1  \n",
       "1    210.897994         8.324                  2  \n",
       "2    210.945160         8.324                  3  \n",
       "3    210.975957         8.324                  4  \n",
       "4    211.006754         8.324                  5  \n",
       "..          ...           ...                ...  \n",
       "138  222.616433         6.565                139  \n",
       "139  222.815930         6.170                140  \n",
       "140  223.015426         6.170                141  \n",
       "141  223.059808         6.170                142  \n",
       "142  223.078337         6.170                143  \n",
       "\n",
       "[143 rows x 8 columns]"
      ]
     },
     "execution_count": 60,
     "metadata": {},
     "output_type": "execute_result"
    }
   ],
   "source": [
    "store2Data[\"RestructuredDates\"] = reStructuredDates\n",
    "store2Data"
   ]
  },
  {
   "cell_type": "markdown",
   "metadata": {},
   "source": [
    "<h3>Importing necessary libraries</h3>"
   ]
  },
  {
   "cell_type": "code",
   "execution_count": 66,
   "metadata": {},
   "outputs": [],
   "source": [
    "from sklearn.model_selection import train_test_split\n",
    "from sklearn.linear_model import LinearRegression\n",
    "from sklearn import preprocessing"
   ]
  },
  {
   "cell_type": "code",
   "execution_count": 67,
   "metadata": {},
   "outputs": [],
   "source": [
    "X = store2Data[[\"RestructuredDates\", \"Holiday_Flag\", \"Temperature\", \"Fuel_Price\", \"CPI\", \"Unemployment\"]].values\n",
    "y = store2Data[[\"Weekly_Sales\"]].values"
   ]
  },
  {
   "cell_type": "markdown",
   "metadata": {},
   "source": [
    "<h3>Preprocessing the data</h3>\n",
    "<h4>Normalizing the data</h4>"
   ]
  },
  {
   "cell_type": "code",
   "execution_count": 68,
   "metadata": {},
   "outputs": [],
   "source": [
    "X = preprocessing.normalize(X)"
   ]
  },
  {
   "cell_type": "markdown",
   "metadata": {},
   "source": [
    "<h4>Splitting the data into testing and training set </h4>"
   ]
  },
  {
   "cell_type": "code",
   "execution_count": 69,
   "metadata": {},
   "outputs": [
    {
     "data": {
      "text/plain": [
       "((114, 6), (114, 1), (29, 6), (29, 1))"
      ]
     },
     "execution_count": 69,
     "metadata": {},
     "output_type": "execute_result"
    }
   ],
   "source": [
    "X_train, X_test, y_train, y_test = train_test_split(X, y, test_size = 0.2, random_state = 0)\n",
    "X_train.shape, y_train.shape, X_test.shape, y_test.shape"
   ]
  },
  {
   "cell_type": "markdown",
   "metadata": {},
   "source": [
    "<h3>Building the linear regression model</h3>\n",
    "<br>\n",
    "<p>We train the model on X_train and y_train and analyse the prediciton on X_test and y_test</p>"
   ]
  },
  {
   "cell_type": "code",
   "execution_count": 70,
   "metadata": {},
   "outputs": [
    {
     "data": {
      "text/plain": [
       "(29, 1)"
      ]
     },
     "execution_count": 70,
     "metadata": {},
     "output_type": "execute_result"
    }
   ],
   "source": [
    "lm = LinearRegression()\n",
    "lm.fit(X_train, y_train)\n",
    "yPred = lm.predict(X_test)\n",
    "yPred.shape"
   ]
  },
  {
   "cell_type": "markdown",
   "metadata": {},
   "source": [
    "<h4>Intercept and coefficients</h4>"
   ]
  },
  {
   "cell_type": "code",
   "execution_count": 71,
   "metadata": {},
   "outputs": [
    {
     "name": "stdout",
     "output_type": "stream",
     "text": [
      "[[   126353.02909243   6870875.16388835  -2319911.92983954\n",
      "  -50604855.48435206  -7860070.88511851  83524668.78287096]]\n",
      "[7592131.18362268]\n"
     ]
    }
   ],
   "source": [
    "print(lm.coef_)\n",
    "print(lm.intercept_)"
   ]
  },
  {
   "cell_type": "markdown",
   "metadata": {},
   "source": [
    "<p>Theta 0 = <strong>7592131.18362268</strong><p>\n",
    "<br>\n",
    "<p>Theta 1 = <strong>126353.02909243</strong><p>\n",
    "<br>\n",
    "<p>Theta 2 = <strong>6870875.16388835</strong><p>\n",
    "<br>\n",
    "<p>Theta 3 = <strong>-2319911.92983954</strong><p>\n",
    "<br>\n",
    "<p>Theta 4 = <strong>-50604855.48435206</strong><p>\n",
    "<br>\n",
    "<p>Theta 5 = <strong>-7860070.88511851</strong><p>\n",
    "<br>\n",
    "<p>Theta 6 = <strong>83524668.78287096</strong><p>\n"
   ]
  },
  {
   "cell_type": "code",
   "execution_count": 72,
   "metadata": {},
   "outputs": [
    {
     "data": {
      "text/plain": [
       "(1, 6)"
      ]
     },
     "execution_count": 72,
     "metadata": {},
     "output_type": "execute_result"
    }
   ],
   "source": [
    "coeff = lm.coef_\n",
    "coeff.shape"
   ]
  },
  {
   "cell_type": "code",
   "execution_count": 73,
   "metadata": {},
   "outputs": [
    {
     "name": "stdout",
     "output_type": "stream",
     "text": [
      "[126353.0290924289, 6870875.163888349, -2319911.929839542, -50604855.48435206, -7860070.885118506, 83524668.78287096]\n"
     ]
    }
   ],
   "source": [
    "Coeff = []\n",
    "for i in range(0, 6):\n",
    "    Coeff.append(coeff[0,i])\n",
    "print(Coeff)"
   ]
  },
  {
   "cell_type": "code",
   "execution_count": 74,
   "metadata": {},
   "outputs": [],
   "source": [
    "Coeff = [abs(number) for number in Coeff]"
   ]
  },
  {
   "cell_type": "code",
   "execution_count": 75,
   "metadata": {},
   "outputs": [
    {
     "data": {
      "text/plain": [
       "[126353.0290924289,\n",
       " 6870875.163888349,\n",
       " 2319911.929839542,\n",
       " 50604855.48435206,\n",
       " 7860070.885118506,\n",
       " 83524668.78287096]"
      ]
     },
     "execution_count": 75,
     "metadata": {},
     "output_type": "execute_result"
    }
   ],
   "source": [
    "Coeff"
   ]
  },
  {
   "cell_type": "code",
   "execution_count": 76,
   "metadata": {},
   "outputs": [],
   "source": [
    "Coeff = (Coeff/sum(Coeff)*100)"
   ]
  },
  {
   "cell_type": "code",
   "execution_count": 77,
   "metadata": {},
   "outputs": [
    {
     "data": {
      "text/plain": [
       "array([ 0.08350787,  4.541024  ,  1.53325093, 33.44521008,  5.19479247,\n",
       "       55.20221465])"
      ]
     },
     "execution_count": 77,
     "metadata": {},
     "output_type": "execute_result"
    }
   ],
   "source": [
    "Coeff"
   ]
  },
  {
   "cell_type": "markdown",
   "metadata": {},
   "source": [
    "<p>Dependence on date = <strong>0.08350787%</strong><p>\n",
    "<br>\n",
    "<p>Dependence on Holiday = <strong>4.541024%</strong><p>\n",
    "<br>\n",
    "<p>Dependence on Temp = <strong>1.53325093%</strong><p>\n",
    "<br>\n",
    "<p>Dependence on Fuel Price = <strong>33.44521008%</strong><p>\n",
    "<br>\n",
    "<p>Dependence on CPI = <strong>5.1947924%7</strong><p>\n",
    "<br>\n",
    "<p>Dependence on Uemployment = <strong>55.20221465%</strong><p>\n",
    "<br>"
   ]
  },
  {
   "cell_type": "markdown",
   "metadata": {},
   "source": [
    "<h3>Error in the predictions</h3>"
   ]
  },
  {
   "cell_type": "code",
   "execution_count": 78,
   "metadata": {},
   "outputs": [
    {
     "name": "stdout",
     "output_type": "stream",
     "text": [
      "[172248.28875942]\n"
     ]
    }
   ],
   "source": [
    "def errorCalc(yPred, y_test):\n",
    "    error = 0\n",
    "    for i in range(29):\n",
    "        error += abs(yPred[i] - y_test[i])\n",
    "    return error/29\n",
    "print(errorCalc(yPred, y_test))"
   ]
  },
  {
   "cell_type": "markdown",
   "metadata": {},
   "source": [
    "<p>The average error in prediction is almost = <strong>172248.28875942</strong></p>"
   ]
  },
  {
   "cell_type": "code",
   "execution_count": 82,
   "metadata": {},
   "outputs": [
    {
     "data": {
      "text/plain": [
       "1925751.3355244761"
      ]
     },
     "execution_count": 82,
     "metadata": {},
     "output_type": "execute_result"
    }
   ],
   "source": [
    "meanSales = store2Data[\"Weekly_Sales\"].mean()\n",
    "meanSales"
   ]
  },
  {
   "cell_type": "code",
   "execution_count": 83,
   "metadata": {},
   "outputs": [
    {
     "name": "stdout",
     "output_type": "stream",
     "text": [
      "% Error = 8.94447198773503\n"
     ]
    }
   ],
   "source": [
    "print(\"% Error = \" + str(172248.28875942/meanSales*100))"
   ]
  },
  {
   "cell_type": "markdown",
   "metadata": {},
   "source": [
    "<p>Error percentage: <strong>8.94447198773503%</strong></p>"
   ]
  },
  {
   "cell_type": "code",
   "execution_count": null,
   "metadata": {},
   "outputs": [],
   "source": []
  }
 ],
 "metadata": {
  "kernelspec": {
   "display_name": "Python 3",
   "language": "python",
   "name": "python3"
  },
  "language_info": {
   "codemirror_mode": {
    "name": "ipython",
    "version": 3
   },
   "file_extension": ".py",
   "mimetype": "text/x-python",
   "name": "python",
   "nbconvert_exporter": "python",
   "pygments_lexer": "ipython3",
   "version": "3.7.6"
  }
 },
 "nbformat": 4,
 "nbformat_minor": 4
}
