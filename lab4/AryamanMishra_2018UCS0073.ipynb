{
 "cells": [
  {
   "cell_type": "markdown",
   "metadata": {},
   "source": [
    "<h1>Assignment 6</h1>"
   ]
  },
  {
   "cell_type": "markdown",
   "metadata": {},
   "source": [
    "<h3>Importing necessary libraries</h3>"
   ]
  },
  {
   "cell_type": "code",
   "execution_count": 101,
   "metadata": {},
   "outputs": [],
   "source": [
    "import numpy as np\n",
    "import pandas as pd\n",
    "import sklearn\n",
    "import tensorflow as tf\n",
    "import matplotlib.pyplot as plt\n",
    "from sklearn.cluster import KMeans\n",
    "from sklearn.svm import SVC\n",
    "import cv2 as cv\n",
    "from sklearn.metrics import confusion_matrix"
   ]
  },
  {
   "cell_type": "markdown",
   "metadata": {},
   "source": [
    "<h3>Loading the MNIST data, which is a 28x28 pixel image</h3>"
   ]
  },
  {
   "cell_type": "code",
   "execution_count": 55,
   "metadata": {},
   "outputs": [],
   "source": [
    "(x_train, y_train), (x_test, y_test) = tf.keras.datasets.mnist.load_data(path=\"mnist.npz\")"
   ]
  },
  {
   "cell_type": "markdown",
   "metadata": {},
   "source": [
    "<h3>Shape of the data</h3>"
   ]
  },
  {
   "cell_type": "code",
   "execution_count": 56,
   "metadata": {},
   "outputs": [
    {
     "data": {
      "text/plain": [
       "((60000, 28, 28), (60000,), (10000, 28, 28), (10000,))"
      ]
     },
     "execution_count": 56,
     "metadata": {},
     "output_type": "execute_result"
    }
   ],
   "source": [
    "x_train.shape, y_train.shape, x_test.shape, y_test.shape"
   ]
  },
  {
   "cell_type": "markdown",
   "metadata": {},
   "source": [
    "<h3>Helper function that converts descriptors of the SIFT output into a list</h3>"
   ]
  },
  {
   "cell_type": "code",
   "execution_count": 57,
   "metadata": {},
   "outputs": [],
   "source": [
    "def dataForKmeans(x, sift):\n",
    "    count = 0\n",
    "    X_ = []\n",
    "    for image in x:\n",
    "        image = np.array(image, dtype=np.uint8)\n",
    "        kp, des = sift.detectAndCompute(image, None)\n",
    "        if des is None:\n",
    "            continue\n",
    "        else:\n",
    "            for feature in des:\n",
    "                X_.append(feature)\n",
    "        count += 1  \n",
    "    return X_"
   ]
  },
  {
   "cell_type": "markdown",
   "metadata": {},
   "source": [
    "<h3>Helper function that is used to train a K-Means model to creater clusters for the descriptors</h3>"
   ]
  },
  {
   "cell_type": "code",
   "execution_count": 58,
   "metadata": {},
   "outputs": [],
   "source": [
    "def clusteringDescriptors(X_, clusterCount):\n",
    "    km = KMeans(clusterCount) \n",
    "    km.fit(X_)\n",
    "    return km"
   ]
  },
  {
   "cell_type": "markdown",
   "metadata": {},
   "source": [
    "<h3>Helper function that uses the clusters of the K-Means to create X_TRAIN and X_TEST data</h3>"
   ]
  },
  {
   "cell_type": "code",
   "execution_count": 59,
   "metadata": {},
   "outputs": [],
   "source": [
    "def creatingData(X_train, clusterCount, sift):\n",
    "    X = []\n",
    "    for image in X_train:\n",
    "        image = np.array(image, dtype=np.uint8)\n",
    "        kp, des = sift.detectAndCompute(image, None)\n",
    "        projection = [0] * clusterCount\n",
    "        if des is not None:\n",
    "            result = km.predict(des)\n",
    "            for cluster in result:\n",
    "                #weights for the cluster \n",
    "                projection[cluster] += 10\n",
    "        else:\n",
    "        X.append(projection)\n",
    "    return X"
   ]
  },
  {
   "cell_type": "markdown",
   "metadata": {},
   "source": [
    "<h3>Helper function to train the SVM model</h3>"
   ]
  },
  {
   "cell_type": "code",
   "execution_count": 60,
   "metadata": {},
   "outputs": [],
   "source": [
    "def trainingSVM(X_TRAIN, y_train):\n",
    "    clf = SVC(kernel = \"linear\")\n",
    "    clf.fit(X_TRAIN, y_train)\n",
    "    return clf"
   ]
  },
  {
   "cell_type": "markdown",
   "metadata": {},
   "source": [
    "<p>Sample image from the dataset</p>"
   ]
  },
  {
   "cell_type": "code",
   "execution_count": 61,
   "metadata": {},
   "outputs": [
    {
     "data": {
      "text/plain": [
       "<matplotlib.image.AxesImage at 0x2111d246148>"
      ]
     },
     "execution_count": 61,
     "metadata": {},
     "output_type": "execute_result"
    },
    {
     "data": {
      "image/png": "[encoded data removed]",
      "text/plain": [
       "<Figure size 432x288 with 1 Axes>"
      ]
     },
     "metadata": {
      "needs_background": "light"
     },
     "output_type": "display_data"
    }
   ],
   "source": [
    "img = x_train[2].reshape(28, 28)\n",
    "plt.imshow(img)"
   ]
  },
  {
   "cell_type": "markdown",
   "metadata": {},
   "source": [
    "<p>Using SIFT on the sample image, we can see corners marked</p>"
   ]
  },
  {
   "cell_type": "code",
   "execution_count": 62,
   "metadata": {},
   "outputs": [
    {
     "data": {
      "text/plain": [
       "<matplotlib.image.AxesImage at 0x211207d1f48>"
      ]
     },
     "execution_count": 62,
     "metadata": {},
     "output_type": "execute_result"
    },
    {
     "data": {
      "image/png": "[encoded data removed]",
      "text/plain": [
       "<Figure size 432x288 with 1 Axes>"
      ]
     },
     "metadata": {
      "needs_background": "light"
     },
     "output_type": "display_data"
    }
   ],
   "source": [
    "image = np.array(img, dtype=np.uint8)\n",
    "#creating a sift instance\n",
    "sift = cv.SIFT_create()\n",
    "#obtaining the keypoints and descriptors\n",
    "kp, des = sift.detectAndCompute(image, None)\n",
    "img=cv.drawKeypoints(image, kp,image)\n",
    "plt.imshow(img)"
   ]
  },
  {
   "cell_type": "markdown",
   "metadata": {},
   "source": [
    "<p>Printing the length of Keypoints and shape of Descriptors</p>"
   ]
  },
  {
   "cell_type": "code",
   "execution_count": 63,
   "metadata": {},
   "outputs": [
    {
     "data": {
      "text/plain": [
       "6"
      ]
     },
     "execution_count": 63,
     "metadata": {},
     "output_type": "execute_result"
    }
   ],
   "source": [
    "len(kp)"
   ]
  },
  {
   "cell_type": "code",
   "execution_count": 64,
   "metadata": {},
   "outputs": [
    {
     "data": {
      "text/plain": [
       "(6, 128)"
      ]
     },
     "execution_count": 64,
     "metadata": {},
     "output_type": "execute_result"
    }
   ],
   "source": [
    "des.shape"
   ]
  },
  {
   "cell_type": "markdown",
   "metadata": {},
   "source": [
    "<h3>Creating the training and test dataset</h3>"
   ]
  },
  {
   "cell_type": "code",
   "execution_count": 65,
   "metadata": {},
   "outputs": [],
   "source": [
    "x = x_train[0:3000]\n",
    "X_train, X_test, y_train, y_test = x_train[0:3000], x_test[3000:3100], y_train[0:3000], y_test[3000:3100]"
   ]
  },
  {
   "cell_type": "markdown",
   "metadata": {},
   "source": [
    "<h3>Since SIFT has two threshold parameters, egdeThreshold and contrastThreshold, we will use both to analyse the output</h3>"
   ]
  },
  {
   "cell_type": "markdown",
   "metadata": {},
   "source": [
    " <h2>Measuring Time and Accuracy w.r.t egdeThreshold</h2>\n",
    " <p>Confusion matrix corresponding to each threshold is plotted beneath the cell where it is trained</p>"
   ]
  },
  {
   "cell_type": "code",
   "execution_count": 102,
   "metadata": {},
   "outputs": [],
   "source": [
    "thresholdTime = {}\n",
    "thresholdAccuracy = {}\n",
    "clusterCount = 100"
   ]
  },
  {
   "cell_type": "markdown",
   "metadata": {},
   "source": [
    "<p>edgeThreshold = 10</p>"
   ]
  },
  {
   "cell_type": "code",
   "execution_count": 105,
   "metadata": {},
   "outputs": [
    {
     "name": "stdout",
     "output_type": "stream",
     "text": [
      "0.66\n",
      "[[ 8  0  0  0  0  2  0  0  0  0]\n",
      " [ 0 11  0  0  0  0  0  1  0  0]\n",
      " [ 1  0  6  0  0  0  1  2  0  0]\n",
      " [ 1  0  1  6  0  1  0  1  1  0]\n",
      " [ 0  0  0  0  9  0  0  0  0  1]\n",
      " [ 0  0  0  1  0  5  0  0  0  0]\n",
      " [ 1  0  1  1  0  1  5  1  0  1]\n",
      " [ 0  1  3  0  0  0  0  7  0  0]\n",
      " [ 0  0  0  1  1  1  2  0  5  0]\n",
      " [ 0  1  1  2  0  1  0  0  0  4]]\n",
      "Wall time: 46 s\n"
     ]
    }
   ],
   "source": [
    "%%time\n",
    "#creating an instance of SIFT\n",
    "sift = cv.SIFT_create(edgeThreshold = 10)\n",
    "#getting the descriptors for K-means clustering\n",
    "X_ = dataForKmeans(x, sift)\n",
    "#CLustering using Kmeans\n",
    "km = clusteringDescriptors(X_, clusterCount)\n",
    "#Getting the X_TRAIN and X_TEST \n",
    "X_TRAIN = creatingData(X_train, clusterCount, sift)\n",
    "#training the SVM model\n",
    "clf = trainingSVM(X_TRAIN, y_train)\n",
    "X_TEST = creatingData(X_test, clusterCount, sift)\n",
    "#getting the results and confusion matrix\n",
    "result = clf.predict(X_TEST)\n",
    "print(clf.score(X_TEST, y_test))\n",
    "print(confusion_matrix(y_test, result))"
   ]
  },
  {
   "cell_type": "code",
   "execution_count": 106,
   "metadata": {},
   "outputs": [],
   "source": [
    "thresholdAccuracy[10] =  66\n",
    "thresholdTime[10] = 46"
   ]
  },
  {
   "cell_type": "markdown",
   "metadata": {},
   "source": [
    "<p>edgeThreshold = 20</p>"
   ]
  },
  {
   "cell_type": "code",
   "execution_count": null,
   "metadata": {},
   "outputs": [],
   "source": [
    "%%time\n",
    "sift = cv.SIFT_create(edgeThreshold = 20)\n",
    "X_ = dataForKmeans(x, sift)\n",
    "km = clusteringDescriptors(X_, clusterCount)\n",
    "X_TRAIN = creatingData(X_train, clusterCount, sift)\n",
    "clf = trainingSVM(X_TRAIN, y_train)\n",
    "X_TEST = creatingData(X_test, clusterCount, sift)\n",
    "result = clf.predict(X_TEST)\n",
    "print(clf.score(X_TEST, y_test))\n",
    "print(confusion_matrix(y_test, result))"
   ]
  },
  {
   "cell_type": "code",
   "execution_count": 122,
   "metadata": {},
   "outputs": [],
   "source": [
    "thresholdAccuracy[20] =  70\n",
    "thresholdTime[20] = 59"
   ]
  },
  {
   "cell_type": "markdown",
   "metadata": {},
   "source": [
    "<p>edgeThreshold = 30</p>"
   ]
  },
  {
   "cell_type": "code",
   "execution_count": 109,
   "metadata": {},
   "outputs": [
    {
     "name": "stdout",
     "output_type": "stream",
     "text": [
      "0.63\n",
      "[[ 8  1  0  0  0  0  1  0  0  0]\n",
      " [ 0 11  0  0  0  0  0  1  0  0]\n",
      " [ 3  0  5  0  0  0  1  1  0  0]\n",
      " [ 1  1  0  6  1  1  0  0  1  0]\n",
      " [ 0  0  0  0  9  0  0  0  0  1]\n",
      " [ 1  0  0  3  0  2  0  0  0  0]\n",
      " [ 3  1  1  0  0  1  3  0  1  1]\n",
      " [ 1  0  2  1  0  0  0  7  0  0]\n",
      " [ 1  0  0  1  0  1  0  0  7  0]\n",
      " [ 0  1  0  2  0  0  1  0  0  5]]\n",
      "Wall time: 1min 1s\n"
     ]
    }
   ],
   "source": [
    "%%time\n",
    "sift = cv.SIFT_create(edgeThreshold = 30)\n",
    "X_ = dataForKmeans(x, sift)\n",
    "km = clusteringDescriptors(X_, clusterCount)\n",
    "X_TRAIN = creatingData(X_train, clusterCount, sift)\n",
    "clf = trainingSVM(X_TRAIN, y_train)\n",
    "X_TEST = creatingData(X_test, clusterCount, sift)\n",
    "result = clf.predict(X_TEST)\n",
    "print(clf.score(X_TEST, y_test))\n",
    "print(confusion_matrix(y_test, result))"
   ]
  },
  {
   "cell_type": "code",
   "execution_count": 110,
   "metadata": {},
   "outputs": [],
   "source": [
    "thresholdAccuracy[30] =  63\n",
    "thresholdTime[30] = 61"
   ]
  },
  {
   "cell_type": "markdown",
   "metadata": {},
   "source": [
    "<p>edgeThreshold = 40</p>"
   ]
  },
  {
   "cell_type": "code",
   "execution_count": 111,
   "metadata": {},
   "outputs": [
    {
     "name": "stdout",
     "output_type": "stream",
     "text": [
      "0.62\n",
      "[[ 8  0  0  0  0  0  1  0  0  1]\n",
      " [ 0 11  0  0  1  0  0  0  0  0]\n",
      " [ 2  0  5  0  1  0  0  2  0  0]\n",
      " [ 0  0  1  6  1  1  0  0  1  1]\n",
      " [ 0  0  1  0  9  0  0  0  0  0]\n",
      " [ 1  0  0  2  0  3  0  0  0  0]\n",
      " [ 3  0  1  0  0  1  4  0  1  1]\n",
      " [ 1  1  1  1  1  1  0  4  0  1]\n",
      " [ 1  0  0  0  0  0  2  0  7  0]\n",
      " [ 0  1  1  0  1  0  1  0  0  5]]\n",
      "Wall time: 59.2 s\n"
     ]
    }
   ],
   "source": [
    "%%time\n",
    "sift = cv.SIFT_create(edgeThreshold = 40)\n",
    "X_ = dataForKmeans(x, sift)\n",
    "km = clusteringDescriptors(X_, clusterCount)\n",
    "X_TRAIN = creatingData(X_train, clusterCount, sift)\n",
    "clf = trainingSVM(X_TRAIN, y_train)\n",
    "X_TEST = creatingData(X_test, clusterCount, sift)\n",
    "result = clf.predict(X_TEST)\n",
    "print(clf.score(X_TEST, y_test))\n",
    "print(confusion_matrix(y_test, result))"
   ]
  },
  {
   "cell_type": "code",
   "execution_count": 76,
   "metadata": {},
   "outputs": [],
   "source": [
    "thresholdAccuracy[40] =  62\n",
    "thresholdTime[40] = 59.2"
   ]
  },
  {
   "cell_type": "markdown",
   "metadata": {},
   "source": [
    "<p>edgeThreshold = 50</p>"
   ]
  },
  {
   "cell_type": "code",
   "execution_count": 112,
   "metadata": {},
   "outputs": [
    {
     "name": "stdout",
     "output_type": "stream",
     "text": [
      "0.64\n",
      "[[ 9  0  0  1  0  0  0  0  0  0]\n",
      " [ 0 11  0  0  0  0  0  1  0  0]\n",
      " [ 1  0  3  1  0  0  2  3  0  0]\n",
      " [ 0  0  0 10  0  1  0  0  0  0]\n",
      " [ 0  0  0  0  9  0  0  0  0  1]\n",
      " [ 0  0  0  2  0  2  1  1  0  0]\n",
      " [ 2  0  1  0  1  0  6  0  0  1]\n",
      " [ 0  1  1  0  1  2  0  6  0  0]\n",
      " [ 0  0  1  0  0  0  2  0  5  2]\n",
      " [ 0  1  0  0  2  0  2  0  1  3]]\n",
      "Wall time: 1min\n"
     ]
    }
   ],
   "source": [
    "%%time\n",
    "sift = cv.SIFT_create(edgeThreshold = 50)\n",
    "X_ = dataForKmeans(x, sift)\n",
    "km = clusteringDescriptors(X_, clusterCount)\n",
    "X_TRAIN = creatingData(X_train, clusterCount, sift)\n",
    "clf = trainingSVM(X_TRAIN, y_train)\n",
    "X_TEST = creatingData(X_test, clusterCount, sift)\n",
    "result = clf.predict(X_TEST)\n",
    "print(clf.score(X_TEST, y_test))\n",
    "print(confusion_matrix(y_test, result))"
   ]
  },
  {
   "cell_type": "code",
   "execution_count": 113,
   "metadata": {},
   "outputs": [],
   "source": [
    "thresholdAccuracy[50] =  64\n",
    "thresholdTime[50] = 60"
   ]
  },
  {
   "cell_type": "markdown",
   "metadata": {},
   "source": [
    "<p>edgeThreshold = 60</p>"
   ]
  },
  {
   "cell_type": "code",
   "execution_count": 114,
   "metadata": {},
   "outputs": [
    {
     "name": "stdout",
     "output_type": "stream",
     "text": [
      "0.71\n",
      "[[ 6  0  0  1  1  0  0  0  1  1]\n",
      " [ 0 11  0  0  0  0  0  1  0  0]\n",
      " [ 2  0  7  1  0  0  0  0  0  0]\n",
      " [ 1  0  1  9  0  0  0  0  0  0]\n",
      " [ 0  0  1  0  9  0  0  0  0  0]\n",
      " [ 0  0  0  0  0  6  0  0  0  0]\n",
      " [ 3  0  1  0  0  1  6  0  0  0]\n",
      " [ 0  1  0  1  0  1  1  7  0  0]\n",
      " [ 0  0  1  1  0  1  1  0  6  0]\n",
      " [ 1  1  0  1  1  0  1  0  0  4]]\n",
      "Wall time: 1min 5s\n"
     ]
    }
   ],
   "source": [
    "%%time\n",
    "sift = cv.SIFT_create(edgeThreshold = 60)\n",
    "X_ = dataForKmeans(x, sift)\n",
    "km = clusteringDescriptors(X_, clusterCount)\n",
    "X_TRAIN = creatingData(X_train, clusterCount, sift)\n",
    "clf = trainingSVM(X_TRAIN, y_train)\n",
    "X_TEST = creatingData(X_test, clusterCount, sift)\n",
    "result = clf.predict(X_TEST)\n",
    "print(clf.score(X_TEST, y_test))\n",
    "print(confusion_matrix(y_test, result))"
   ]
  },
  {
   "cell_type": "code",
   "execution_count": 115,
   "metadata": {},
   "outputs": [],
   "source": [
    "thresholdAccuracy[60] =  71\n",
    "thresholdTime[60] = 65"
   ]
  },
  {
   "cell_type": "markdown",
   "metadata": {},
   "source": [
    "<p>edgeThreshold = 70</p>"
   ]
  },
  {
   "cell_type": "code",
   "execution_count": 116,
   "metadata": {},
   "outputs": [
    {
     "name": "stdout",
     "output_type": "stream",
     "text": [
      "0.65\n",
      "[[ 9  0  0  0  0  0  1  0  0  0]\n",
      " [ 0 11  0  0  0  0  0  1  0  0]\n",
      " [ 1  0  6  2  0  0  1  0  0  0]\n",
      " [ 1  1  0  8  0  1  0  0  0  0]\n",
      " [ 0  0  1  0  7  0  0  0  0  2]\n",
      " [ 0  0  1  3  0  2  0  0  0  0]\n",
      " [ 1  0  1  0  0  2  6  0  0  1]\n",
      " [ 0  0  2  1  1  1  0  6  0  0]\n",
      " [ 1  0  1  1  1  0  0  0  6  0]\n",
      " [ 0  1  0  0  1  0  2  0  1  4]]\n",
      "Wall time: 1min 1s\n"
     ]
    }
   ],
   "source": [
    "%%time\n",
    "sift = cv.SIFT_create(edgeThreshold = 70)\n",
    "X_ = dataForKmeans(x, sift)\n",
    "km = clusteringDescriptors(X_, clusterCount)\n",
    "X_TRAIN = creatingData(X_train, clusterCount, sift)\n",
    "clf = trainingSVM(X_TRAIN, y_train)\n",
    "X_TEST = creatingData(X_test, clusterCount, sift)\n",
    "result = clf.predict(X_TEST)\n",
    "print(clf.score(X_TEST, y_test))\n",
    "print(confusion_matrix(y_test, result))"
   ]
  },
  {
   "cell_type": "code",
   "execution_count": 117,
   "metadata": {},
   "outputs": [],
   "source": [
    "thresholdAccuracy[70] =  65\n",
    "thresholdTime[70] = 61"
   ]
  },
  {
   "cell_type": "code",
   "execution_count": 118,
   "metadata": {},
   "outputs": [],
   "source": [
    "import seaborn as sns\n",
    "import pandas as pd"
   ]
  },
  {
   "cell_type": "code",
   "execution_count": 123,
   "metadata": {},
   "outputs": [
    {
     "data": {
      "text/plain": [
       "{10: 66, 30: 63, 50: 64, 60: 71, 70: 65, 20: 70}"
      ]
     },
     "execution_count": 123,
     "metadata": {},
     "output_type": "execute_result"
    }
   ],
   "source": [
    "thresholdAccuracy"
   ]
  },
  {
   "cell_type": "code",
   "execution_count": 124,
   "metadata": {},
   "outputs": [
    {
     "data": {
      "text/plain": [
       "{10: 46, 30: 61, 50: 60, 60: 65, 70: 61, 20: 59}"
      ]
     },
     "execution_count": 124,
     "metadata": {},
     "output_type": "execute_result"
    }
   ],
   "source": [
    "thresholdTime"
   ]
  },
  {
   "cell_type": "code",
   "execution_count": 126,
   "metadata": {},
   "outputs": [
    {
     "data": {
      "text/html": [
       "<div>\n",
       "<style scoped>\n",
       "    .dataframe tbody tr th:only-of-type {\n",
       "        vertical-align: middle;\n",
       "    }\n",
       "\n",
       "    .dataframe tbody tr th {\n",
       "        vertical-align: top;\n",
       "    }\n",
       "\n",
       "    .dataframe thead th {\n",
       "        text-align: right;\n",
       "    }\n",
       "</style>\n",
       "<table border=\"1\" class=\"dataframe\">\n",
       "  <thead>\n",
       "    <tr style=\"text-align: right;\">\n",
       "      <th></th>\n",
       "      <th>Edge Threshold</th>\n",
       "      <th>Accuracy</th>\n",
       "    </tr>\n",
       "  </thead>\n",
       "  <tbody>\n",
       "    <tr>\n",
       "      <th>0</th>\n",
       "      <td>10</td>\n",
       "      <td>66</td>\n",
       "    </tr>\n",
       "    <tr>\n",
       "      <th>1</th>\n",
       "      <td>30</td>\n",
       "      <td>63</td>\n",
       "    </tr>\n",
       "    <tr>\n",
       "      <th>2</th>\n",
       "      <td>50</td>\n",
       "      <td>64</td>\n",
       "    </tr>\n",
       "    <tr>\n",
       "      <th>3</th>\n",
       "      <td>60</td>\n",
       "      <td>71</td>\n",
       "    </tr>\n",
       "    <tr>\n",
       "      <th>4</th>\n",
       "      <td>70</td>\n",
       "      <td>65</td>\n",
       "    </tr>\n",
       "    <tr>\n",
       "      <th>5</th>\n",
       "      <td>20</td>\n",
       "      <td>70</td>\n",
       "    </tr>\n",
       "  </tbody>\n",
       "</table>\n",
       "</div>"
      ],
      "text/plain": [
       "   Edge Threshold  Accuracy\n",
       "0              10        66\n",
       "1              30        63\n",
       "2              50        64\n",
       "3              60        71\n",
       "4              70        65\n",
       "5              20        70"
      ]
     },
     "execution_count": 126,
     "metadata": {},
     "output_type": "execute_result"
    }
   ],
   "source": [
    "tAE = pd.DataFrame.from_dict({\"Edge Threshold\" : list(thresholdAccuracy.keys()), \"Accuracy\" : list(thresholdAccuracy.values())})\n",
    "tAE"
   ]
  },
  {
   "cell_type": "markdown",
   "metadata": {},
   "source": [
    "<h3>PLotting Accuracy vs Edge Threshold</h3>"
   ]
  },
  {
   "cell_type": "code",
   "execution_count": 127,
   "metadata": {},
   "outputs": [
    {
     "data": {
      "text/plain": [
       "<matplotlib.axes._subplots.AxesSubplot at 0x2112133e088>"
      ]
     },
     "execution_count": 127,
     "metadata": {},
     "output_type": "execute_result"
    },
    {
     "data": {
      "image/png": "[encoded data removed]",
      "text/plain": [
       "<Figure size 432x288 with 1 Axes>"
      ]
     },
     "metadata": {
      "needs_background": "light"
     },
     "output_type": "display_data"
    }
   ],
   "source": [
    "sns.lineplot(data = tAE, x = \"Edge Threshold\", y = \"Accuracy\")"
   ]
  },
  {
   "cell_type": "markdown",
   "metadata": {},
   "source": [
    "<p>The graph seems to be erratic, with highest accuracies observed when using edgeThreshold = 20 adn 60</p>"
   ]
  },
  {
   "cell_type": "code",
   "execution_count": 128,
   "metadata": {},
   "outputs": [
    {
     "data": {
      "text/html": [
       "<div>\n",
       "<style scoped>\n",
       "    .dataframe tbody tr th:only-of-type {\n",
       "        vertical-align: middle;\n",
       "    }\n",
       "\n",
       "    .dataframe tbody tr th {\n",
       "        vertical-align: top;\n",
       "    }\n",
       "\n",
       "    .dataframe thead th {\n",
       "        text-align: right;\n",
       "    }\n",
       "</style>\n",
       "<table border=\"1\" class=\"dataframe\">\n",
       "  <thead>\n",
       "    <tr style=\"text-align: right;\">\n",
       "      <th></th>\n",
       "      <th>Edge Threshold</th>\n",
       "      <th>Time</th>\n",
       "    </tr>\n",
       "  </thead>\n",
       "  <tbody>\n",
       "    <tr>\n",
       "      <th>0</th>\n",
       "      <td>10</td>\n",
       "      <td>46</td>\n",
       "    </tr>\n",
       "    <tr>\n",
       "      <th>1</th>\n",
       "      <td>30</td>\n",
       "      <td>61</td>\n",
       "    </tr>\n",
       "    <tr>\n",
       "      <th>2</th>\n",
       "      <td>50</td>\n",
       "      <td>60</td>\n",
       "    </tr>\n",
       "    <tr>\n",
       "      <th>3</th>\n",
       "      <td>60</td>\n",
       "      <td>65</td>\n",
       "    </tr>\n",
       "    <tr>\n",
       "      <th>4</th>\n",
       "      <td>70</td>\n",
       "      <td>61</td>\n",
       "    </tr>\n",
       "    <tr>\n",
       "      <th>5</th>\n",
       "      <td>20</td>\n",
       "      <td>59</td>\n",
       "    </tr>\n",
       "  </tbody>\n",
       "</table>\n",
       "</div>"
      ],
      "text/plain": [
       "   Edge Threshold  Time\n",
       "0              10    46\n",
       "1              30    61\n",
       "2              50    60\n",
       "3              60    65\n",
       "4              70    61\n",
       "5              20    59"
      ]
     },
     "execution_count": 128,
     "metadata": {},
     "output_type": "execute_result"
    }
   ],
   "source": [
    "tTE = pd.DataFrame.from_dict({\"Edge Threshold\" : list(thresholdTime.keys()), \"Time\" : list(thresholdTime.values())})\n",
    "tTE"
   ]
  },
  {
   "cell_type": "markdown",
   "metadata": {},
   "source": [
    "<h3>PLotting Time vs Edge Threshold</h3>"
   ]
  },
  {
   "cell_type": "code",
   "execution_count": 136,
   "metadata": {},
   "outputs": [
    {
     "data": {
      "text/plain": [
       "<matplotlib.axes._subplots.AxesSubplot at 0x211209ea608>"
      ]
     },
     "execution_count": 136,
     "metadata": {},
     "output_type": "execute_result"
    },
    {
     "data": {
      "image/png": "[encoded data removed]",
      "text/plain": [
       "<Figure size 432x288 with 1 Axes>"
      ]
     },
     "metadata": {
      "needs_background": "light"
     },
     "output_type": "display_data"
    }
   ],
   "source": [
    "sns.lineplot(data = tTE, x = \"Edge Threshold\", y = \"Time\")"
   ]
  },
  {
   "cell_type": "markdown",
   "metadata": {},
   "source": [
    "<p>Time seems to increase with edge threshold, though it decreases at some points</p>"
   ]
  },
  {
   "cell_type": "markdown",
   "metadata": {},
   "source": [
    " <h2>Measuring Time and Accuracy w.r.t contrastThreshold</h2>\n",
    " <p>Confusion matrix corresponding to each threshold is plotted beneath the cell where it is trained</p>"
   ]
  },
  {
   "cell_type": "code",
   "execution_count": 130,
   "metadata": {},
   "outputs": [],
   "source": [
    "thresholdTimeContrast = {}\n",
    "thresholdAccuracyContrast = {}"
   ]
  },
  {
   "cell_type": "markdown",
   "metadata": {},
   "source": [
    " <p>contrastThreshold = 0.003</p>"
   ]
  },
  {
   "cell_type": "code",
   "execution_count": 131,
   "metadata": {},
   "outputs": [
    {
     "name": "stdout",
     "output_type": "stream",
     "text": [
      "0.66\n",
      "[[ 9  0  0  0  0  0  1  0  0  0]\n",
      " [ 0 11  0  0  0  0  0  1  0  0]\n",
      " [ 1  0  6  2  0  0  1  0  0  0]\n",
      " [ 1  1  0  8  0  1  0  0  0  0]\n",
      " [ 0  0  1  0  7  0  0  0  0  2]\n",
      " [ 0  0  1  3  0  2  0  0  0  0]\n",
      " [ 1  0  1  0  0  2  6  0  0  1]\n",
      " [ 0  0  2  1  1  1  0  6  0  0]\n",
      " [ 1  0  1  1  1  0  0  0  6  0]\n",
      " [ 0  1  0  0  1  0  2  0  1  4]]\n",
      "Wall time: 45.9 s\n"
     ]
    }
   ],
   "source": [
    "%%time\n",
    "sift = cv.SIFT_create(contrastThreshold = 0.003)\n",
    "X_ = dataForKmeans(x, sift)\n",
    "km = clusteringDescriptors(X_, clusterCount)\n",
    "X_TRAIN = creatingData(X_train, clusterCount, sift)\n",
    "clf = trainingSVM(X_TRAIN, y_train)\n",
    "X_TEST = creatingData(X_test, clusterCount, sift)\n",
    "print(clf.score(X_TEST, y_test))\n",
    "print(confusion_matrix(y_test, result))"
   ]
  },
  {
   "cell_type": "code",
   "execution_count": 151,
   "metadata": {},
   "outputs": [],
   "source": [
    "thresholdTimeContrast[0.003] = 45.9\n",
    "thresholdAccuracyContrast[0.003] = 66"
   ]
  },
  {
   "cell_type": "markdown",
   "metadata": {},
   "source": [
    "<p>contrastThreshold = 0.01</p>"
   ]
  },
  {
   "cell_type": "code",
   "execution_count": 138,
   "metadata": {},
   "outputs": [
    {
     "name": "stdout",
     "output_type": "stream",
     "text": [
      "0.62\n",
      "[[ 9  0  0  0  0  0  1  0  0  0]\n",
      " [ 0 11  0  0  0  0  0  1  0  0]\n",
      " [ 1  0  6  2  0  0  1  0  0  0]\n",
      " [ 1  1  0  8  0  1  0  0  0  0]\n",
      " [ 0  0  1  0  7  0  0  0  0  2]\n",
      " [ 0  0  1  3  0  2  0  0  0  0]\n",
      " [ 1  0  1  0  0  2  6  0  0  1]\n",
      " [ 0  0  2  1  1  1  0  6  0  0]\n",
      " [ 1  0  1  1  1  0  0  0  6  0]\n",
      " [ 0  1  0  0  1  0  2  0  1  4]]\n",
      "Wall time: 49.1 s\n"
     ]
    }
   ],
   "source": [
    "%%time\n",
    "sift = cv.SIFT_create(contrastThreshold = 0.01)\n",
    "X_ = dataForKmeans(x, sift)\n",
    "km = clusteringDescriptors(X_, clusterCount)\n",
    "X_TRAIN = creatingData(X_train, clusterCount, sift)\n",
    "clf = trainingSVM(X_TRAIN, y_train)\n",
    "X_TEST = creatingData(X_test, clusterCount, sift)\n",
    "print(clf.score(X_TEST, y_test))\n",
    "print(confusion_matrix(y_test, result))"
   ]
  },
  {
   "cell_type": "code",
   "execution_count": 152,
   "metadata": {},
   "outputs": [],
   "source": [
    "thresholdTimeContrast[0.01] = 49.1\n",
    "thresholdAccuracyContrast[0.01] = 62"
   ]
  },
  {
   "cell_type": "markdown",
   "metadata": {},
   "source": [
    "<p>contrastThreshold = 0.03</p>"
   ]
  },
  {
   "cell_type": "code",
   "execution_count": 142,
   "metadata": {},
   "outputs": [
    {
     "name": "stdout",
     "output_type": "stream",
     "text": [
      "0.59\n",
      "[[ 9  0  0  0  0  0  1  0  0  0]\n",
      " [ 0 11  0  0  0  0  0  1  0  0]\n",
      " [ 1  0  6  2  0  0  1  0  0  0]\n",
      " [ 1  1  0  8  0  1  0  0  0  0]\n",
      " [ 0  0  1  0  7  0  0  0  0  2]\n",
      " [ 0  0  1  3  0  2  0  0  0  0]\n",
      " [ 1  0  1  0  0  2  6  0  0  1]\n",
      " [ 0  0  2  1  1  1  0  6  0  0]\n",
      " [ 1  0  1  1  1  0  0  0  6  0]\n",
      " [ 0  1  0  0  1  0  2  0  1  4]]\n",
      "Wall time: 46.5 s\n"
     ]
    }
   ],
   "source": [
    "%%time\n",
    "sift = cv.SIFT_create(contrastThreshold = 0.03)\n",
    "X_ = dataForKmeans(x, sift)\n",
    "km = clusteringDescriptors(X_, clusterCount)\n",
    "X_TRAIN = creatingData(X_train, clusterCount, sift)\n",
    "clf = trainingSVM(X_TRAIN, y_train)\n",
    "X_TEST = creatingData(X_test, clusterCount, sift)\n",
    "print(clf.score(X_TEST, y_test))\n",
    "print(confusion_matrix(y_test, result))"
   ]
  },
  {
   "cell_type": "code",
   "execution_count": 153,
   "metadata": {},
   "outputs": [],
   "source": [
    "thresholdTimeContrast[0.03] = 46.5\n",
    "thresholdAccuracyContrast[0.03] = 59"
   ]
  },
  {
   "cell_type": "markdown",
   "metadata": {},
   "source": [
    "<p>contrastThreshold = 0.06</p>"
   ]
  },
  {
   "cell_type": "code",
   "execution_count": 144,
   "metadata": {},
   "outputs": [
    {
     "name": "stdout",
     "output_type": "stream",
     "text": [
      "0.63\n",
      "[[ 9  0  0  0  0  0  1  0  0  0]\n",
      " [ 0 11  0  0  0  0  0  1  0  0]\n",
      " [ 1  0  6  2  0  0  1  0  0  0]\n",
      " [ 1  1  0  8  0  1  0  0  0  0]\n",
      " [ 0  0  1  0  7  0  0  0  0  2]\n",
      " [ 0  0  1  3  0  2  0  0  0  0]\n",
      " [ 1  0  1  0  0  2  6  0  0  1]\n",
      " [ 0  0  2  1  1  1  0  6  0  0]\n",
      " [ 1  0  1  1  1  0  0  0  6  0]\n",
      " [ 0  1  0  0  1  0  2  0  1  4]]\n",
      "Wall time: 45.4 s\n"
     ]
    }
   ],
   "source": [
    "%%time\n",
    "sift = cv.SIFT_create(contrastThreshold = 0.06)\n",
    "X_ = dataForKmeans(x, sift)\n",
    "km = clusteringDescriptors(X_, clusterCount)\n",
    "X_TRAIN = creatingData(X_train, clusterCount, sift)\n",
    "clf = trainingSVM(X_TRAIN, y_train)\n",
    "X_TEST = creatingData(X_test, clusterCount, sift)\n",
    "print(clf.score(X_TEST, y_test))\n",
    "print(confusion_matrix(y_test, result))"
   ]
  },
  {
   "cell_type": "code",
   "execution_count": 154,
   "metadata": {},
   "outputs": [],
   "source": [
    "thresholdTimeContrast[0.06] = 45.4\n",
    "thresholdAccuracyContrast[0.06] = 63"
   ]
  },
  {
   "cell_type": "markdown",
   "metadata": {},
   "source": [
    "<p>contrastThreshold = 0.1</p>"
   ]
  },
  {
   "cell_type": "code",
   "execution_count": 146,
   "metadata": {},
   "outputs": [
    {
     "name": "stdout",
     "output_type": "stream",
     "text": [
      "0.66\n",
      "[[ 9  0  0  0  0  0  1  0  0  0]\n",
      " [ 0 11  0  0  0  0  0  1  0  0]\n",
      " [ 1  0  6  2  0  0  1  0  0  0]\n",
      " [ 1  1  0  8  0  1  0  0  0  0]\n",
      " [ 0  0  1  0  7  0  0  0  0  2]\n",
      " [ 0  0  1  3  0  2  0  0  0  0]\n",
      " [ 1  0  1  0  0  2  6  0  0  1]\n",
      " [ 0  0  2  1  1  1  0  6  0  0]\n",
      " [ 1  0  1  1  1  0  0  0  6  0]\n",
      " [ 0  1  0  0  1  0  2  0  1  4]]\n",
      "Wall time: 47.8 s\n"
     ]
    }
   ],
   "source": [
    "%%time\n",
    "sift = cv.SIFT_create(contrastThreshold = 0.1)\n",
    "X_ = dataForKmeans(x, sift)\n",
    "km = clusteringDescriptors(X_, clusterCount)\n",
    "X_TRAIN = creatingData(X_train, clusterCount, sift)\n",
    "clf = trainingSVM(X_TRAIN, y_train)\n",
    "X_TEST = creatingData(X_test, clusterCount, sift)\n",
    "print(clf.score(X_TEST, y_test))\n",
    "print(confusion_matrix(y_test, result))"
   ]
  },
  {
   "cell_type": "code",
   "execution_count": 155,
   "metadata": {},
   "outputs": [],
   "source": [
    "thresholdTimeContrast[0.1] = 47.8\n",
    "thresholdAccuracyContrast[0.1] = 66"
   ]
  },
  {
   "cell_type": "code",
   "execution_count": 156,
   "metadata": {},
   "outputs": [
    {
     "data": {
      "text/plain": [
       "{0.003: 66, 0.01: 62, 0.06: 63, 0.03: 59, 0.1: 66}"
      ]
     },
     "execution_count": 156,
     "metadata": {},
     "output_type": "execute_result"
    }
   ],
   "source": [
    "thresholdAccuracyContrast"
   ]
  },
  {
   "cell_type": "code",
   "execution_count": 157,
   "metadata": {},
   "outputs": [
    {
     "data": {
      "text/plain": [
       "{0.003: 45.9, 0.01: 49.1, 0.06: 45.4, 0.03: 46.5, 0.1: 47.8}"
      ]
     },
     "execution_count": 157,
     "metadata": {},
     "output_type": "execute_result"
    }
   ],
   "source": [
    "thresholdTimeContrast"
   ]
  },
  {
   "cell_type": "code",
   "execution_count": 162,
   "metadata": {},
   "outputs": [
    {
     "data": {
      "text/html": [
       "<div>\n",
       "<style scoped>\n",
       "    .dataframe tbody tr th:only-of-type {\n",
       "        vertical-align: middle;\n",
       "    }\n",
       "\n",
       "    .dataframe tbody tr th {\n",
       "        vertical-align: top;\n",
       "    }\n",
       "\n",
       "    .dataframe thead th {\n",
       "        text-align: right;\n",
       "    }\n",
       "</style>\n",
       "<table border=\"1\" class=\"dataframe\">\n",
       "  <thead>\n",
       "    <tr style=\"text-align: right;\">\n",
       "      <th></th>\n",
       "      <th>Contrast Threshold</th>\n",
       "      <th>Accuracy</th>\n",
       "    </tr>\n",
       "  </thead>\n",
       "  <tbody>\n",
       "    <tr>\n",
       "      <th>0</th>\n",
       "      <td>0.003</td>\n",
       "      <td>66</td>\n",
       "    </tr>\n",
       "    <tr>\n",
       "      <th>1</th>\n",
       "      <td>0.010</td>\n",
       "      <td>62</td>\n",
       "    </tr>\n",
       "    <tr>\n",
       "      <th>2</th>\n",
       "      <td>0.060</td>\n",
       "      <td>63</td>\n",
       "    </tr>\n",
       "    <tr>\n",
       "      <th>3</th>\n",
       "      <td>0.030</td>\n",
       "      <td>59</td>\n",
       "    </tr>\n",
       "    <tr>\n",
       "      <th>4</th>\n",
       "      <td>0.100</td>\n",
       "      <td>66</td>\n",
       "    </tr>\n",
       "  </tbody>\n",
       "</table>\n",
       "</div>"
      ],
      "text/plain": [
       "   Contrast Threshold  Accuracy\n",
       "0               0.003        66\n",
       "1               0.010        62\n",
       "2               0.060        63\n",
       "3               0.030        59\n",
       "4               0.100        66"
      ]
     },
     "execution_count": 162,
     "metadata": {},
     "output_type": "execute_result"
    }
   ],
   "source": [
    "tAC = pd.DataFrame.from_dict({\"Contrast Threshold\" : list(thresholdAccuracyContrast.keys()), \"Accuracy\" : list(thresholdAccuracyContrast.values())})\n",
    "tAC"
   ]
  },
  {
   "cell_type": "markdown",
   "metadata": {},
   "source": [
    "<h3>PLotting Accuracy vs Contrast Threshold</h3>"
   ]
  },
  {
   "cell_type": "code",
   "execution_count": 163,
   "metadata": {},
   "outputs": [
    {
     "data": {
      "text/plain": [
       "<matplotlib.axes._subplots.AxesSubplot at 0x21121a386c8>"
      ]
     },
     "execution_count": 163,
     "metadata": {},
     "output_type": "execute_result"
    },
    {
     "data": {
      "image/png": "[encoded data removed]",
      "text/plain": [
       "<Figure size 432x288 with 1 Axes>"
      ]
     },
     "metadata": {
      "needs_background": "light"
     },
     "output_type": "display_data"
    }
   ],
   "source": [
    "sns.lineplot(data = tAC, x = \"Contrast Threshold\", y = \"Accuracy\")"
   ]
  },
  {
   "cell_type": "markdown",
   "metadata": {},
   "source": [
    "<p>Lest accuracy is observed at contrast threshold = 0.03 </p>"
   ]
  },
  {
   "cell_type": "code",
   "execution_count": 165,
   "metadata": {},
   "outputs": [
    {
     "data": {
      "text/html": [
       "<div>\n",
       "<style scoped>\n",
       "    .dataframe tbody tr th:only-of-type {\n",
       "        vertical-align: middle;\n",
       "    }\n",
       "\n",
       "    .dataframe tbody tr th {\n",
       "        vertical-align: top;\n",
       "    }\n",
       "\n",
       "    .dataframe thead th {\n",
       "        text-align: right;\n",
       "    }\n",
       "</style>\n",
       "<table border=\"1\" class=\"dataframe\">\n",
       "  <thead>\n",
       "    <tr style=\"text-align: right;\">\n",
       "      <th></th>\n",
       "      <th>Contrast Threshold</th>\n",
       "      <th>Time</th>\n",
       "    </tr>\n",
       "  </thead>\n",
       "  <tbody>\n",
       "    <tr>\n",
       "      <th>0</th>\n",
       "      <td>0.003</td>\n",
       "      <td>45.9</td>\n",
       "    </tr>\n",
       "    <tr>\n",
       "      <th>1</th>\n",
       "      <td>0.010</td>\n",
       "      <td>49.1</td>\n",
       "    </tr>\n",
       "    <tr>\n",
       "      <th>2</th>\n",
       "      <td>0.060</td>\n",
       "      <td>45.4</td>\n",
       "    </tr>\n",
       "    <tr>\n",
       "      <th>3</th>\n",
       "      <td>0.030</td>\n",
       "      <td>46.5</td>\n",
       "    </tr>\n",
       "    <tr>\n",
       "      <th>4</th>\n",
       "      <td>0.100</td>\n",
       "      <td>47.8</td>\n",
       "    </tr>\n",
       "  </tbody>\n",
       "</table>\n",
       "</div>"
      ],
      "text/plain": [
       "   Contrast Threshold  Time\n",
       "0               0.003  45.9\n",
       "1               0.010  49.1\n",
       "2               0.060  45.4\n",
       "3               0.030  46.5\n",
       "4               0.100  47.8"
      ]
     },
     "execution_count": 165,
     "metadata": {},
     "output_type": "execute_result"
    }
   ],
   "source": [
    "tTC = pd.DataFrame.from_dict({\"Contrast Threshold\" : list(thresholdTimeContrast.keys()), \"Time\" : list(thresholdTimeContrast.values())})\n",
    "tTC"
   ]
  },
  {
   "cell_type": "markdown",
   "metadata": {},
   "source": [
    "<h3>Time vs Contrast Threshold</h3>"
   ]
  },
  {
   "cell_type": "code",
   "execution_count": 166,
   "metadata": {},
   "outputs": [
    {
     "data": {
      "text/plain": [
       "<matplotlib.axes._subplots.AxesSubplot at 0x21120832fc8>"
      ]
     },
     "execution_count": 166,
     "metadata": {},
     "output_type": "execute_result"
    },
    {
     "data": {
      "image/png": "[encoded data removed]",
      "text/plain": [
       "<Figure size 432x288 with 1 Axes>"
      ]
     },
     "metadata": {
      "needs_background": "light"
     },
     "output_type": "display_data"
    }
   ],
   "source": [
    "sns.lineplot(data = tTC, x = \"Contrast Threshold\", y = \"Time\")"
   ]
  },
  {
   "cell_type": "markdown",
   "metadata": {},
   "source": [
    "<p>Time varies in a erractic fashion</p>"
   ]
  }
 ],
 "metadata": {
  "kernelspec": {
   "display_name": "Python 3",
   "language": "python",
   "name": "python3"
  },
  "language_info": {
   "codemirror_mode": {
    "name": "ipython",
    "version": 3
   },
   "file_extension": ".py",
   "mimetype": "text/x-python",
   "name": "python",
   "nbconvert_exporter": "python",
   "pygments_lexer": "ipython3",
   "version": "3.7.6"
  }
 },
 "nbformat": 4,
 "nbformat_minor": 4
}
